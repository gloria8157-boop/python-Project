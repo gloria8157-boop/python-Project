{
 "cells": [
  {
   "cell_type": "markdown",
   "id": "9ad4002d",
   "metadata": {},
   "source": [
    "2025.09.23"
   ]
  },
  {
   "cell_type": "code",
   "execution_count": null,
   "id": "59ead881",
   "metadata": {},
   "outputs": [
    {
     "name": "stdout",
     "output_type": "stream",
     "text": [
      "None\n",
      "1\n"
     ]
    }
   ],
   "source": [
    "a = 1\n",
    "\n",
    "def vartest(a):\n",
    "    a = a + 1\n",
    "\n",
    "print(vartest(a)) # return 값이 없기 때문에 값이 none이 된다.\n",
    "print(a)\n"
   ]
  },
  {
   "cell_type": "code",
   "execution_count": 8,
   "id": "bc7bbaa0",
   "metadata": {},
   "outputs": [
    {
     "name": "stdout",
     "output_type": "stream",
     "text": [
      "None\n",
      "1\n"
     ]
    }
   ],
   "source": [
    "def vartest(a):\n",
    "    a = a + 1\n",
    "\n",
    "print(vartest(3))\n",
    "print(a)"
   ]
  },
  {
   "cell_type": "code",
   "execution_count": 9,
   "id": "ebffb5ee",
   "metadata": {},
   "outputs": [
    {
     "name": "stdout",
     "output_type": "stream",
     "text": [
      "2\n"
     ]
    }
   ],
   "source": [
    "def vartest(a):\n",
    "    a = a + 1\n",
    "    return a\n",
    "\n",
    "a = vartest(a)\n",
    "print(a)"
   ]
  },
  {
   "cell_type": "code",
   "execution_count": null,
   "id": "0285d365",
   "metadata": {},
   "outputs": [
    {
     "name": "stdout",
     "output_type": "stream",
     "text": [
      "2\n",
      "7\n"
     ]
    }
   ],
   "source": [
    "def vartest():\n",
    "    global a # a=1의 값을 완전히 바꾸는 함수(return 사용 권장)\n",
    "    a = a + 5\n",
    "\n",
    "print(a)\n",
    "vartest()\n",
    "print(a)"
   ]
  },
  {
   "cell_type": "code",
   "execution_count": null,
   "id": "d9818716",
   "metadata": {},
   "outputs": [
    {
     "name": "stdout",
     "output_type": "stream",
     "text": [
      "<zip object at 0x000001898F5D1680>\n"
     ]
    }
   ],
   "source": [
    "r = (52, 255, 29, 132)\n",
    "g = (52, 235, 29, 132)\n",
    "b = (52, 255, 49, 132)\n",
    "\n",
    "img = zip(r, g, b)\n",
    "print(img)"
   ]
  },
  {
   "cell_type": "code",
   "execution_count": null,
   "id": "516e4c22",
   "metadata": {},
   "outputs": [
    {
     "name": "stdout",
     "output_type": "stream",
     "text": [
      "<zip object at 0x0000023E5A1A0500>\n",
      "[(52, 52, 52), (255, 235, 255), (29, 29, 49), (132, 132, 132)]\n",
      "(52, 52, 52)\n",
      "<class 'tuple'>\n"
     ]
    }
   ],
   "source": [
    "r = (52, 255, 29, 132)\n",
    "g = (52, 235, 29, 132)\n",
    "b = (52, 255, 49, 132)\n",
    "\n",
    "zip_obj = zip(r, g, b) \n",
    "print(zip_obj) # 첫번째 답\n",
    "\n",
    "img = list(zip_obj)\n",
    "print(img) # 두번째 답\n",
    "\n",
    "print(img[0]) # 세번째 답\n",
    "print(type(img[0])) # 네번째 답"
   ]
  },
  {
   "cell_type": "code",
   "execution_count": 3,
   "id": "b1bb19d3",
   "metadata": {},
   "outputs": [],
   "source": [
    "f = ('apple', 'banana', 'cherry', 'date')"
   ]
  },
  {
   "cell_type": "code",
   "execution_count": 4,
   "id": "86a493aa",
   "metadata": {},
   "outputs": [
    {
     "data": {
      "text/plain": [
       "<enumerate at 0x23e5a18f6a0>"
      ]
     },
     "execution_count": 4,
     "metadata": {},
     "output_type": "execute_result"
    }
   ],
   "source": [
    "enumerate(f)"
   ]
  },
  {
   "cell_type": "code",
   "execution_count": 5,
   "id": "60d45ff7",
   "metadata": {},
   "outputs": [
    {
     "data": {
      "text/plain": [
       "{0: 'apple', 1: 'banana', 2: 'cherry', 3: 'date'}"
      ]
     },
     "execution_count": 5,
     "metadata": {},
     "output_type": "execute_result"
    }
   ],
   "source": [
    "dict(enumerate(f))"
   ]
  },
  {
   "cell_type": "code",
   "execution_count": 6,
   "id": "3ee91525",
   "metadata": {},
   "outputs": [
    {
     "data": {
      "text/plain": [
       "<enumerate at 0x23e5a1de2a0>"
      ]
     },
     "execution_count": 6,
     "metadata": {},
     "output_type": "execute_result"
    }
   ],
   "source": [
    "enumerate(f,1)"
   ]
  },
  {
   "cell_type": "code",
   "execution_count": 9,
   "id": "b59fbeee",
   "metadata": {},
   "outputs": [
    {
     "data": {
      "text/plain": [
       "{1: 'apple', 2: 'banana', 3: 'cherry', 4: 'date'}"
      ]
     },
     "execution_count": 9,
     "metadata": {},
     "output_type": "execute_result"
    }
   ],
   "source": [
    "dict(enumerate(f,1))"
   ]
  },
  {
   "cell_type": "code",
   "execution_count": null,
   "id": "8b890706",
   "metadata": {},
   "outputs": [
    {
     "name": "stdout",
     "output_type": "stream",
     "text": [
      "[2, 3, 4, 5, 6]\n"
     ]
    }
   ],
   "source": [
    "my_list = [1, 2, 3, 4, 5] # -> [2, 3, 4, 5, 6]\n",
    "mylist = []\n",
    "\n",
    "for i in my_list:\n",
    "    mylist.append(i +1)\n",
    "\n",
    "print(mylist)\n"
   ]
  },
  {
   "cell_type": "code",
   "execution_count": null,
   "id": "4616b67c",
   "metadata": {},
   "outputs": [
    {
     "data": {
      "text/plain": [
       "<map at 0x23e5a1b33d0>"
      ]
     },
     "execution_count": 13,
     "metadata": {},
     "output_type": "execute_result"
    }
   ],
   "source": [
    "def add_one(n):\n",
    "    return n + 1\n",
    "\n",
    "result = map(add_one, my_list)\n",
    "result"
   ]
  },
  {
   "cell_type": "code",
   "execution_count": 16,
   "id": "0c0fdfdd",
   "metadata": {},
   "outputs": [
    {
     "data": {
      "text/plain": [
       "[2, 3, 4, 5, 6]"
      ]
     },
     "execution_count": 16,
     "metadata": {},
     "output_type": "execute_result"
    }
   ],
   "source": [
    "list(map(add_one, my_list))"
   ]
  },
  {
   "cell_type": "code",
   "execution_count": 3,
   "id": "6b9818d1",
   "metadata": {},
   "outputs": [
    {
     "data": {
      "text/plain": [
       "[3, -6, 100, 25]"
      ]
     },
     "execution_count": 3,
     "metadata": {},
     "output_type": "execute_result"
    }
   ],
   "source": [
    "mylist = [ 3.14, -5.6, 100.4, 25.0 ]\n",
    "\n",
    "result = list(map(round, mylist))\n",
    "result"
   ]
  },
  {
   "cell_type": "code",
   "execution_count": 5,
   "id": "bd5974d7",
   "metadata": {},
   "outputs": [
    {
     "data": {
      "text/plain": [
       "[8, 7]"
      ]
     },
     "execution_count": 5,
     "metadata": {},
     "output_type": "execute_result"
    }
   ],
   "source": [
    "aa = [8, 3, 2, 10, 15, 7, 1, 0, 11]\n",
    "re = []\n",
    "for i in aa:\n",
    "    if i > 5 and i <10:\n",
    "        re.append(i)\n",
    "re"
   ]
  },
  {
   "cell_type": "code",
   "execution_count": null,
   "id": "54e04317",
   "metadata": {},
   "outputs": [
    {
     "data": {
      "text/plain": [
       "[8, 7]"
      ]
     },
     "execution_count": 6,
     "metadata": {},
     "output_type": "execute_result"
    }
   ],
   "source": [
    "def f(x): # 위와 같지만 필터 함수 사용\n",
    "    return x >5 and x <10\n",
    "list(filter(f, aa))"
   ]
  },
  {
   "cell_type": "code",
   "execution_count": 9,
   "id": "75629f76",
   "metadata": {},
   "outputs": [
    {
     "data": {
      "text/plain": [
       "[2, 3, 4, 5, 6]"
      ]
     },
     "execution_count": 9,
     "metadata": {},
     "output_type": "execute_result"
    }
   ],
   "source": [
    "mylist = [1, 2, 3, 4, 5]\n",
    "result = list(map(lambda x: x+1, mylist)) #lambda 사용 -> def 사용시 def add_one(n): return n+1\n",
    "result"
   ]
  },
  {
   "cell_type": "code",
   "execution_count": 14,
   "id": "ba9941d6",
   "metadata": {},
   "outputs": [
    {
     "name": "stdout",
     "output_type": "stream",
     "text": [
      "[1, 4, 9, 16, 25]\n"
     ]
    }
   ],
   "source": [
    "numbers = [1, 2, 3, 4, 5]\n",
    "squared = list(map(lambda x: x**2, numbers))\n",
    "print(squared)"
   ]
  },
  {
   "cell_type": "code",
   "execution_count": 16,
   "id": "000855d3",
   "metadata": {},
   "outputs": [
    {
     "name": "stdout",
     "output_type": "stream",
     "text": [
      "[2, 4]\n"
     ]
    }
   ],
   "source": [
    "numbers = [1, 2, 3, 4, 5]\n",
    "even_numbers = list(filter(lambda x: x % 2 == 0, numbers))\n",
    "print(even_numbers)"
   ]
  },
  {
   "cell_type": "code",
   "execution_count": null,
   "id": "218469f0",
   "metadata": {},
   "outputs": [
    {
     "name": "stdout",
     "output_type": "stream",
     "text": [
      "[(5, 1), (1, 2), (3, 4)]\n"
     ]
    }
   ],
   "source": [
    "points = [(1, 2), (3, 4), (5, 1)]\n",
    "sorted_points = list(sorted(points, key=lambda x:x[1])) # y값으로 오름차순\n",
    "print(sorted_points)"
   ]
  },
  {
   "cell_type": "code",
   "execution_count": 31,
   "id": "3663c076",
   "metadata": {},
   "outputs": [
    {
     "name": "stdout",
     "output_type": "stream",
     "text": [
      "2\n",
      "4\n",
      "1\n"
     ]
    }
   ],
   "source": [
    "for i in points:\n",
    "    print(i[1])"
   ]
  },
  {
   "cell_type": "code",
   "execution_count": 32,
   "id": "13e849f3",
   "metadata": {},
   "outputs": [
    {
     "name": "stdout",
     "output_type": "stream",
     "text": [
      "['date', 'apple', 'banana', 'cherry']\n"
     ]
    }
   ],
   "source": [
    "fruits = ['apple', 'banana', 'cherry', 'date']\n",
    "myfruits = sorted(fruits, key=len) #문자수 오름차순 -> 내림차순하려면 , reverse=True하면 됨\n",
    "print(myfruits)"
   ]
  },
  {
   "cell_type": "code",
   "execution_count": null,
   "id": "3b854b13",
   "metadata": {},
   "outputs": [
    {
     "name": "stdout",
     "output_type": "stream",
     "text": [
      "[(4, 1), (5, 1), (1, 2), (3, 4)]\n"
     ]
    }
   ],
   "source": [
    "points = [(1, 2), (3, 4), (5, 1), (4,1)]\n",
    "sorted_points = sorted(points, key=lambda x:(x[1], x[0])) # y값으로 오름차순, x값으로 오름차순\n",
    "print(sorted_points)"
   ]
  },
  {
   "cell_type": "code",
   "execution_count": 3,
   "id": "ec823845",
   "metadata": {},
   "outputs": [],
   "source": [
    "score = [[80, 70], [90, 50], [40, 70], [50, 80]]\n",
    "def rank(score) :\n",
    "    result = []\n",
    "    avg = []\n",
    "    for i, j in score :\n",
    "        avg.append((i+j)/2)\n",
    "# print(score1)\n",
    "    avg_sort = sorted(avg, reverse=True)\n",
    "# print(score2)\n",
    "    for i in avg:\n",
    "         result.append(avg_sort.index(i) + 1)\n",
    "    return(result)"
   ]
  },
  {
   "cell_type": "code",
   "execution_count": 5,
   "id": "0208ecd9",
   "metadata": {},
   "outputs": [
    {
     "name": "stdout",
     "output_type": "stream",
     "text": [
      "[1, 2, 4, 3]\n"
     ]
    }
   ],
   "source": [
    "# 평균값이 몇등인지\n",
    " \n",
    "scores = [[80, 70], [90, 50], [40, 70], [50, 80]] # [1, 2, 4, 3]\n",
    " \n",
    "def rank(score) :\n",
    "    avg = [(i+j)/2 for i,j in score]           #평균값 리스트\n",
    "    avgRank = sorted(avg.copy(), reverse=True) #평균값 순위 리스트\n",
    "    avg = [avgRank.index(i)+1 for i in avg]    #평균값이 평간값 순위 리스트의 몇번 째 인덱스에 존재하는지\n",
    " \n",
    "    return avg\n",
    "           \n",
    " \n",
    " \n",
    " \n",
    "rankList = rank(scores)\n",
    "print(rankList)"
   ]
  },
  {
   "cell_type": "code",
   "execution_count": null,
   "id": "3c2146bd",
   "metadata": {},
   "outputs": [],
   "source": [
    "ab = [2, 3, 4, 5, 6, 7, 8, 9] #소수감별기 함수\n",
    "def is_prime(ab):\n",
    "    cc = []\n",
    "    for num in ab:\n",
    "        isprime = True\n",
    "        for i in range(2, num):\n",
    "            if num % i == 0:\n",
    "                 isprime = False\n",
    "                 break\n",
    "        cc.append(isprime)\n",
    "    return cc\n"
   ]
  },
  {
   "cell_type": "code",
   "execution_count": 8,
   "id": "af7bc857",
   "metadata": {},
   "outputs": [
    {
     "data": {
      "text/plain": [
       "[True, True, False, True, False, True, False, False]"
      ]
     },
     "execution_count": 8,
     "metadata": {},
     "output_type": "execute_result"
    }
   ],
   "source": [
    "is_prime([2, 3, 4, 5, 6, 7, 8, 9])"
   ]
  },
  {
   "cell_type": "code",
   "execution_count": 9,
   "id": "2dc365c2",
   "metadata": {},
   "outputs": [],
   "source": [
    "import random"
   ]
  },
  {
   "cell_type": "code",
   "execution_count": null,
   "id": "b6a270a5",
   "metadata": {},
   "outputs": [
    {
     "data": {
      "text/plain": [
       "93"
      ]
     },
     "execution_count": 10,
     "metadata": {},
     "output_type": "execute_result"
    }
   ],
   "source": [
    "random.randint(1, 100) # 1부터 100까지 랜덤으로 숫자 가져오는 모듈"
   ]
  },
  {
   "cell_type": "code",
   "execution_count": 11,
   "id": "9b6ffa50",
   "metadata": {},
   "outputs": [
    {
     "data": {
      "text/plain": [
       "53"
      ]
     },
     "execution_count": 11,
     "metadata": {},
     "output_type": "execute_result"
    }
   ],
   "source": [
    "import random as r \n",
    "r. randint(1, 100)"
   ]
  },
  {
   "cell_type": "code",
   "execution_count": null,
   "id": "ce972c10",
   "metadata": {},
   "outputs": [
    {
     "data": {
      "text/plain": [
       "42"
      ]
     },
     "execution_count": 15,
     "metadata": {},
     "output_type": "execute_result"
    }
   ],
   "source": [
    "from random import randint\n",
    "randint(1, 100)\n",
    "randrange(1, 3)"
   ]
  },
  {
   "cell_type": "code",
   "execution_count": null,
   "id": "7a9407b9",
   "metadata": {},
   "outputs": [
    {
     "data": {
      "text/plain": [
       "1"
      ]
     },
     "execution_count": 17,
     "metadata": {},
     "output_type": "execute_result"
    }
   ],
   "source": [
    "from random import * #모두 가져오기\n",
    "randint(1, 100)\n",
    "randrange(1,3)"
   ]
  },
  {
   "cell_type": "code",
   "execution_count": 26,
   "id": "25c1ff0b",
   "metadata": {},
   "outputs": [
    {
     "name": "stdout",
     "output_type": "stream",
     "text": [
      "[21, 36, 16, 25, 8, 18]\n"
     ]
    }
   ],
   "source": [
    "import random as r # 행운의 로또 숫자 뽑기\n",
    "\n",
    "res = []\n",
    "while len(res) <6:\n",
    "    num = r.randint(1, 45)\n",
    "    if num not in res:\n",
    "        res.append(num)\n",
    "\n",
    "print(res)"
   ]
  },
  {
   "cell_type": "code",
   "execution_count": 1,
   "id": "9821396c",
   "metadata": {},
   "outputs": [
    {
     "name": "stdout",
     "output_type": "stream",
     "text": [
      "mymodule안에서의 __name__: mymodule\n",
      "10\n",
      "-2\n"
     ]
    }
   ],
   "source": [
    "import mymodule as mm #사용자 정의 모듈 사용\n",
    "\n",
    "print(mm.my_add(7,3))\n",
    "print(mm.my_sub(3,5))"
   ]
  },
  {
   "cell_type": "code",
   "execution_count": 5,
   "id": "a54e1da8",
   "metadata": {},
   "outputs": [
    {
     "data": {
      "text/plain": [
       "'__main__'"
      ]
     },
     "execution_count": 5,
     "metadata": {},
     "output_type": "execute_result"
    }
   ],
   "source": [
    "__name__"
   ]
  },
  {
   "cell_type": "code",
   "execution_count": null,
   "id": "63ae501d",
   "metadata": {},
   "outputs": [],
   "source": [
    "class Person: #클래스 이름\n",
    "    def __init__(self, name, age): #생성자\n",
    "        self.name = name\n",
    "        self.age = age\n",
    "\n",
    "    def walk(self): #메서드 \n",
    "        print(f'{self.name}이 걸어가요')"
   ]
  },
  {
   "cell_type": "code",
   "execution_count": 3,
   "id": "22901ed4",
   "metadata": {},
   "outputs": [],
   "source": [
    "person1 = Person(\"박지민\", 31)"
   ]
  },
  {
   "cell_type": "code",
   "execution_count": 5,
   "id": "bd33afbd",
   "metadata": {},
   "outputs": [
    {
     "name": "stdout",
     "output_type": "stream",
     "text": [
      "<class '__main__.Person'>\n"
     ]
    }
   ],
   "source": [
    "print(type(person1))"
   ]
  },
  {
   "cell_type": "code",
   "execution_count": 7,
   "id": "bf14ede0",
   "metadata": {},
   "outputs": [
    {
     "name": "stdout",
     "output_type": "stream",
     "text": [
      "박지민이 걸어가요\n"
     ]
    }
   ],
   "source": [
    "person1.walk()"
   ]
  },
  {
   "cell_type": "code",
   "execution_count": 9,
   "id": "dc1fd55a",
   "metadata": {},
   "outputs": [],
   "source": [
    "person2 = Person(\"전정국\", 29)"
   ]
  },
  {
   "cell_type": "code",
   "execution_count": 11,
   "id": "bd73a56c",
   "metadata": {},
   "outputs": [
    {
     "name": "stdout",
     "output_type": "stream",
     "text": [
      "전정국이 걸어가요\n"
     ]
    }
   ],
   "source": [
    "person2.walk()"
   ]
  },
  {
   "cell_type": "code",
   "execution_count": null,
   "id": "95ba2a87",
   "metadata": {},
   "outputs": [],
   "source": [
    "# 클래스의 상속\n",
    "class Newperson(Person):\n",
    "    def fly(self): #메서드 추가\n",
    "        print(f'{self.name}이 하늘을 날아요')\n",
    "    def walk(self): #메서드 오버라이딩(재정의) \n",
    "        print(f'{self.name}이 너무 잘 걸어가요')"
   ]
  },
  {
   "cell_type": "code",
   "execution_count": 21,
   "id": "8b51f0f1",
   "metadata": {},
   "outputs": [],
   "source": [
    "person3 = Newperson(\"정호석\", 33)"
   ]
  },
  {
   "cell_type": "code",
   "execution_count": 22,
   "id": "66ef2eb7",
   "metadata": {},
   "outputs": [
    {
     "name": "stdout",
     "output_type": "stream",
     "text": [
      "정호석이 하늘을 날아요\n"
     ]
    }
   ],
   "source": [
    "person3.fly()"
   ]
  },
  {
   "cell_type": "code",
   "execution_count": 23,
   "id": "9d29db81",
   "metadata": {},
   "outputs": [
    {
     "name": "stdout",
     "output_type": "stream",
     "text": [
      "정호석이 너무 잘 걸어가요\n"
     ]
    }
   ],
   "source": [
    "person3.walk()"
   ]
  },
  {
   "cell_type": "code",
   "execution_count": 13,
   "id": "2d08a263",
   "metadata": {},
   "outputs": [],
   "source": [
    "### 결제시스템(함수로 만든 경우)\n",
    "# 신용카드, 포인트 결제\n",
    "\n",
    "def pay_credit_payment(card_info, amount):\n",
    "    \"\"\"신용카드 결제 로직\"\"\"\n",
    "    print(f\"{card_info['card_number']}카드로 {amount}원 결제합니다.\")\n",
    "    print(\"결제 완료\")\n",
    "\n",
    "def pay_with_point(point_wallet, amount):\n",
    "    if point_wallet['balance'] >= amount:\n",
    "        point_wallet['balance'] -= amount\n",
    "        print(f\"포인트 {amount}점을 사용해서 결제했습니다.\")\n",
    "    else:\n",
    "        print(\"포인트가 부족합니다.\")\n",
    "\n",
    "def pay_with_bankbook(bankbook_num, amount):\n",
    "    if bankbook_num['money'] >= amount:\n",
    "        bankbook_num['money'] -= amount\n",
    "        print(f\"{amount}원이 계좌에서 결제되었습니다.\")\n",
    "    else:\n",
    "        print(\"계좌 잔액이 부족합니다.\")\n"
   ]
  },
  {
   "cell_type": "code",
   "execution_count": 14,
   "id": "66afd010",
   "metadata": {},
   "outputs": [],
   "source": [
    "credit_card = {\n",
    "    'type':'credit_card',\n",
    "    'card_number': '1234-5678-9101',\n",
    "    'cvc' : 123\n",
    "}\n",
    "\n",
    "my_points = {\n",
    "    'type' :'point_wallet',\n",
    "    'balance' : 50000\n",
    "}\n",
    "\n",
    "my_bankbook = {\n",
    "    'type' : 'bankbook_num',\n",
    "    'money' : 100000\n",
    "}"
   ]
  },
  {
   "cell_type": "code",
   "execution_count": 15,
   "id": "06d45151",
   "metadata": {},
   "outputs": [],
   "source": [
    "def payment(payment_method, amount):\n",
    "    payment_type = payment_method['type']\n",
    "\n",
    "    if payment_type == \"credit_card\":\n",
    "        pay_credit_payment(payment_method, amount)\n",
    "    elif payment_type == \"point_wallet\":\n",
    "        pay_with_point(payment_method, amount)\n",
    "    elif payment_type == \"bankbook_num\":\n",
    "        pay_with_bankbook(payment_method, amount)\n",
    "    else:\n",
    "        print(\"지원되지 않는 결제방식\")"
   ]
  },
  {
   "cell_type": "code",
   "execution_count": 16,
   "id": "d85daca5",
   "metadata": {},
   "outputs": [
    {
     "name": "stdout",
     "output_type": "stream",
     "text": [
      "1234-5678-9101카드로 2500원 결제합니다.\n",
      "결제 완료\n",
      "포인트 10000점을 사용해서 결제했습니다.\n",
      "90000원이 계좌에서 결제되었습니다.\n",
      "포인트가 부족합니다.\n"
     ]
    }
   ],
   "source": [
    "payment(credit_card, 2500)\n",
    "payment(my_points, 10000)\n",
    "payment(my_bankbook, 90000)\n",
    "payment(my_points, 50000)"
   ]
  },
  {
   "cell_type": "code",
   "execution_count": null,
   "id": "121f114e",
   "metadata": {},
   "outputs": [],
   "source": [
    "# 클래스 사용한 결제\n",
    "class PaymentMethod: #부모 클래스(공통적으로 들어가기 때문)\n",
    "    def pay(self, amount):\n",
    "        print(f\"{amount}원 결제\")"
   ]
  },
  {
   "cell_type": "code",
   "execution_count": 6,
   "id": "1ff23705",
   "metadata": {},
   "outputs": [],
   "source": [
    "class Creditcard(PaymentMethod): #상속 클래스(카드)\n",
    "    def __init__(self, card_number, cvc):\n",
    "        self.card_number = card_number\n",
    "        self.cvc = cvc\n",
    "    \n",
    "    def pay(self, amount):\n",
    "        print(f\"{self.card_number}카드로 {amount}원 결제합니다.\")\n",
    "        print(\"결제 완료\")\n",
    "\n",
    "class PointWallet(PaymentMethod): #상속 클래스(포인트)\n",
    "    def __init__(self, balance):\n",
    "        self.balance = balance\n",
    "\n",
    "    def pay(self, amount):\n",
    "        if self.balance >= amount:\n",
    "           self.balance -= amount\n",
    "           print(f\"포인트 {amount}점을 사용해서 결제했습니다.\")\n",
    "        else:\n",
    "           print(\"포인트가 부족합니다.\")"
   ]
  },
  {
   "cell_type": "code",
   "execution_count": 7,
   "id": "1fc00a45",
   "metadata": {},
   "outputs": [],
   "source": [
    "# 메인루틴이랑 카드정보 및 포인트정보를 적은 것\n",
    "def process_payment(payment_method, amount):\n",
    "    payment_method.pay(amount)\n",
    "\n",
    "card_obj = Creditcard(\"4444-4444-1111-1111\", 444)\n",
    "point_obj = PointWallet(50000)"
   ]
  },
  {
   "cell_type": "code",
   "execution_count": 8,
   "id": "8de3d743",
   "metadata": {},
   "outputs": [
    {
     "name": "stdout",
     "output_type": "stream",
     "text": [
      "4444-4444-1111-1111카드로 1000원 결제합니다.\n",
      "결제 완료\n",
      "포인트 10000점을 사용해서 결제했습니다.\n",
      "포인트가 부족합니다.\n"
     ]
    }
   ],
   "source": [
    "process_payment(card_obj, 1000)\n",
    "process_payment(point_obj, 10000)\n",
    "process_payment(point_obj, 50000)"
   ]
  },
  {
   "cell_type": "code",
   "execution_count": null,
   "id": "9e532088",
   "metadata": {},
   "outputs": [
    {
     "name": "stdout",
     "output_type": "stream",
     "text": [
      "Requirement already satisfied: numpy in c:\\users\\el94\\appdata\\local\\programs\\python\\python311\\lib\\site-packages (2.3.3)\n"
     ]
    },
    {
     "name": "stderr",
     "output_type": "stream",
     "text": [
      "\n",
      "[notice] A new release of pip is available: 24.0 -> 25.2\n",
      "[notice] To update, run: python.exe -m pip install --upgrade pip\n"
     ]
    }
   ],
   "source": [
    "!pip install numpy #데이터분석 모듈 설치"
   ]
  },
  {
   "cell_type": "code",
   "execution_count": 20,
   "id": "91d97bcd",
   "metadata": {},
   "outputs": [],
   "source": [
    "import numpy"
   ]
  },
  {
   "cell_type": "code",
   "execution_count": null,
   "id": "56e7f41f",
   "metadata": {},
   "outputs": [
    {
     "name": "stdout",
     "output_type": "stream",
     "text": [
      "Collecting beautifulsoup4\n",
      "  Downloading beautifulsoup4-4.13.5-py3-none-any.whl.metadata (3.8 kB)\n",
      "Collecting soupsieve>1.2 (from beautifulsoup4)\n",
      "  Downloading soupsieve-2.8-py3-none-any.whl.metadata (4.6 kB)\n",
      "Requirement already satisfied: typing-extensions>=4.0.0 in c:\\users\\el94\\appdata\\roaming\\python\\python311\\site-packages (from beautifulsoup4) (4.15.0)\n",
      "Downloading beautifulsoup4-4.13.5-py3-none-any.whl (105 kB)\n",
      "   ---------------------------------------- 0.0/105.1 kB ? eta -:--:--\n",
      "   ------------------------------- -------- 81.9/105.1 kB 2.3 MB/s eta 0:00:01\n",
      "   ---------------------------------------- 105.1/105.1 kB 3.1 MB/s eta 0:00:00\n",
      "Downloading soupsieve-2.8-py3-none-any.whl (36 kB)\n",
      "Installing collected packages: soupsieve, beautifulsoup4\n",
      "Successfully installed beautifulsoup4-4.13.5 soupsieve-2.8\n"
     ]
    },
    {
     "name": "stderr",
     "output_type": "stream",
     "text": [
      "\n",
      "[notice] A new release of pip is available: 24.0 -> 25.2\n",
      "[notice] To update, run: python.exe -m pip install --upgrade pip\n"
     ]
    }
   ],
   "source": [
    "!pip install beautifulsoup4 #웹크롤링모듈 설치"
   ]
  },
  {
   "cell_type": "code",
   "execution_count": 22,
   "id": "c188879b",
   "metadata": {},
   "outputs": [],
   "source": [
    "from bs4 import BeautifulSoup"
   ]
  },
  {
   "cell_type": "code",
   "execution_count": null,
   "id": "eaa7228a",
   "metadata": {},
   "outputs": [],
   "source": []
  }
 ],
 "metadata": {
  "kernelspec": {
   "display_name": "Python 3",
   "language": "python",
   "name": "python3"
  },
  "language_info": {
   "codemirror_mode": {
    "name": "ipython",
    "version": 3
   },
   "file_extension": ".py",
   "mimetype": "text/x-python",
   "name": "python",
   "nbconvert_exporter": "python",
   "pygments_lexer": "ipython3",
   "version": "3.11.8"
  }
 },
 "nbformat": 4,
 "nbformat_minor": 5
}
