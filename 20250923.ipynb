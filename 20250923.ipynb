{
 "cells": [
  {
   "cell_type": "markdown",
   "id": "9ad4002d",
   "metadata": {},
   "source": [
    "2025.09.23"
   ]
  },
  {
   "cell_type": "code",
   "execution_count": null,
   "id": "59ead881",
   "metadata": {},
   "outputs": [
    {
     "name": "stdout",
     "output_type": "stream",
     "text": [
      "None\n",
      "1\n"
     ]
    }
   ],
   "source": [
    "a = 1\n",
    "\n",
    "def vartest(a):\n",
    "    a = a + 1\n",
    "\n",
    "print(vartest(a)) # return 값이 없기 때문에 값이 none이 된다.\n",
    "print(a)\n"
   ]
  },
  {
   "cell_type": "code",
   "execution_count": 8,
   "id": "bc7bbaa0",
   "metadata": {},
   "outputs": [
    {
     "name": "stdout",
     "output_type": "stream",
     "text": [
      "None\n",
      "1\n"
     ]
    }
   ],
   "source": [
    "def vartest(a):\n",
    "    a = a + 1\n",
    "\n",
    "print(vartest(3))\n",
    "print(a)"
   ]
  },
  {
   "cell_type": "code",
   "execution_count": 9,
   "id": "ebffb5ee",
   "metadata": {},
   "outputs": [
    {
     "name": "stdout",
     "output_type": "stream",
     "text": [
      "2\n"
     ]
    }
   ],
   "source": [
    "def vartest(a):\n",
    "    a = a + 1\n",
    "    return a\n",
    "\n",
    "a = vartest(a)\n",
    "print(a)"
   ]
  },
  {
   "cell_type": "code",
   "execution_count": null,
   "id": "0285d365",
   "metadata": {},
   "outputs": [
    {
     "name": "stdout",
     "output_type": "stream",
     "text": [
      "2\n",
      "7\n"
     ]
    }
   ],
   "source": [
    "def vartest():\n",
    "    global a # a=1의 값을 완전히 바꾸는 함수(return 사용 권장)\n",
    "    a = a + 5\n",
    "\n",
    "print(a)\n",
    "vartest()\n",
    "print(a)"
   ]
  },
  {
   "cell_type": "code",
   "execution_count": null,
   "id": "d9818716",
   "metadata": {},
   "outputs": [
    {
     "name": "stdout",
     "output_type": "stream",
     "text": [
      "<zip object at 0x000001898F5D1680>\n"
     ]
    }
   ],
   "source": [
    "r = (52, 255, 29, 132)\n",
    "g = (52, 235, 29, 132)\n",
    "b = (52, 255, 49, 132)\n",
    "\n",
    "img = zip(r, g, b)\n",
    "print(img)"
   ]
  },
  {
   "cell_type": "code",
   "execution_count": null,
   "id": "516e4c22",
   "metadata": {},
   "outputs": [
    {
     "name": "stdout",
     "output_type": "stream",
     "text": [
      "<zip object at 0x0000023E5A1A0500>\n",
      "[(52, 52, 52), (255, 235, 255), (29, 29, 49), (132, 132, 132)]\n",
      "(52, 52, 52)\n",
      "<class 'tuple'>\n"
     ]
    }
   ],
   "source": [
    "r = (52, 255, 29, 132)\n",
    "g = (52, 235, 29, 132)\n",
    "b = (52, 255, 49, 132)\n",
    "\n",
    "zip_obj = zip(r, g, b) \n",
    "print(zip_obj) # 첫번째 답\n",
    "\n",
    "img = list(zip_obj)\n",
    "print(img) # 두번째 답\n",
    "\n",
    "print(img[0]) # 세번째 답\n",
    "print(type(img[0])) # 네번째 답"
   ]
  },
  {
   "cell_type": "code",
   "execution_count": 3,
   "id": "b1bb19d3",
   "metadata": {},
   "outputs": [],
   "source": [
    "f = ('apple', 'banana', 'cherry', 'date')"
   ]
  },
  {
   "cell_type": "code",
   "execution_count": 4,
   "id": "86a493aa",
   "metadata": {},
   "outputs": [
    {
     "data": {
      "text/plain": [
       "<enumerate at 0x23e5a18f6a0>"
      ]
     },
     "execution_count": 4,
     "metadata": {},
     "output_type": "execute_result"
    }
   ],
   "source": [
    "enumerate(f)"
   ]
  },
  {
   "cell_type": "code",
   "execution_count": 5,
   "id": "60d45ff7",
   "metadata": {},
   "outputs": [
    {
     "data": {
      "text/plain": [
       "{0: 'apple', 1: 'banana', 2: 'cherry', 3: 'date'}"
      ]
     },
     "execution_count": 5,
     "metadata": {},
     "output_type": "execute_result"
    }
   ],
   "source": [
    "dict(enumerate(f))"
   ]
  },
  {
   "cell_type": "code",
   "execution_count": 6,
   "id": "3ee91525",
   "metadata": {},
   "outputs": [
    {
     "data": {
      "text/plain": [
       "<enumerate at 0x23e5a1de2a0>"
      ]
     },
     "execution_count": 6,
     "metadata": {},
     "output_type": "execute_result"
    }
   ],
   "source": [
    "enumerate(f,1)"
   ]
  },
  {
   "cell_type": "code",
   "execution_count": 9,
   "id": "b59fbeee",
   "metadata": {},
   "outputs": [
    {
     "data": {
      "text/plain": [
       "{1: 'apple', 2: 'banana', 3: 'cherry', 4: 'date'}"
      ]
     },
     "execution_count": 9,
     "metadata": {},
     "output_type": "execute_result"
    }
   ],
   "source": [
    "dict(enumerate(f,1))"
   ]
  },
  {
   "cell_type": "code",
   "execution_count": null,
   "id": "8b890706",
   "metadata": {},
   "outputs": [
    {
     "name": "stdout",
     "output_type": "stream",
     "text": [
      "[2, 3, 4, 5, 6]\n"
     ]
    }
   ],
   "source": [
    "my_list = [1, 2, 3, 4, 5] # -> [2, 3, 4, 5, 6]\n",
    "mylist = []\n",
    "\n",
    "for i in my_list:\n",
    "    mylist.append(i +1)\n",
    "\n",
    "print(mylist)\n"
   ]
  },
  {
   "cell_type": "code",
   "execution_count": null,
   "id": "4616b67c",
   "metadata": {},
   "outputs": [
    {
     "data": {
      "text/plain": [
       "<map at 0x23e5a1b33d0>"
      ]
     },
     "execution_count": 13,
     "metadata": {},
     "output_type": "execute_result"
    }
   ],
   "source": [
    "def add_one(n):\n",
    "    return n + 1\n",
    "\n",
    "result = map(add_one, my_list)\n",
    "result"
   ]
  },
  {
   "cell_type": "code",
   "execution_count": 16,
   "id": "0c0fdfdd",
   "metadata": {},
   "outputs": [
    {
     "data": {
      "text/plain": [
       "[2, 3, 4, 5, 6]"
      ]
     },
     "execution_count": 16,
     "metadata": {},
     "output_type": "execute_result"
    }
   ],
   "source": [
    "list(map(add_one, my_list))"
   ]
  },
  {
   "cell_type": "code",
   "execution_count": 3,
   "id": "6b9818d1",
   "metadata": {},
   "outputs": [
    {
     "data": {
      "text/plain": [
       "[3, -6, 100, 25]"
      ]
     },
     "execution_count": 3,
     "metadata": {},
     "output_type": "execute_result"
    }
   ],
   "source": [
    "mylist = [ 3.14, -5.6, 100.4, 25.0 ]\n",
    "\n",
    "result = list(map(round, mylist))\n",
    "result"
   ]
  },
  {
   "cell_type": "code",
   "execution_count": 5,
   "id": "bd5974d7",
   "metadata": {},
   "outputs": [
    {
     "data": {
      "text/plain": [
       "[8, 7]"
      ]
     },
     "execution_count": 5,
     "metadata": {},
     "output_type": "execute_result"
    }
   ],
   "source": [
    "aa = [8, 3, 2, 10, 15, 7, 1, 0, 11]\n",
    "re = []\n",
    "for i in aa:\n",
    "    if i > 5 and i <10:\n",
    "        re.append(i)\n",
    "re"
   ]
  },
  {
   "cell_type": "code",
   "execution_count": null,
   "id": "54e04317",
   "metadata": {},
   "outputs": [
    {
     "data": {
      "text/plain": [
       "[8, 7]"
      ]
     },
     "execution_count": 6,
     "metadata": {},
     "output_type": "execute_result"
    }
   ],
   "source": [
    "def f(x): # 위와 같지만 필터 함수 사용\n",
    "    return x >5 and x <10\n",
    "list(filter(f, aa))"
   ]
  },
  {
   "cell_type": "code",
   "execution_count": 9,
   "id": "75629f76",
   "metadata": {},
   "outputs": [
    {
     "data": {
      "text/plain": [
       "[2, 3, 4, 5, 6]"
      ]
     },
     "execution_count": 9,
     "metadata": {},
     "output_type": "execute_result"
    }
   ],
   "source": [
    "mylist = [1, 2, 3, 4, 5]\n",
    "result = list(map(lambda x: x+1, mylist)) #lambda 사용 -> def 사용시 def add_one(n): return n+1\n",
    "result"
   ]
  },
  {
   "cell_type": "code",
   "execution_count": null,
   "id": "ba9941d6",
   "metadata": {},
   "outputs": [],
   "source": []
  }
 ],
 "metadata": {
  "kernelspec": {
   "display_name": "Python 3",
   "language": "python",
   "name": "python3"
  },
  "language_info": {
   "codemirror_mode": {
    "name": "ipython",
    "version": 3
   },
   "file_extension": ".py",
   "mimetype": "text/x-python",
   "name": "python",
   "nbconvert_exporter": "python",
   "pygments_lexer": "ipython3",
   "version": "3.11.8"
  }
 },
 "nbformat": 4,
 "nbformat_minor": 5
}
