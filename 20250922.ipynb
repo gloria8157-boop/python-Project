{
 "cells": [
  {
   "cell_type": "markdown",
   "id": "cab68c28",
   "metadata": {},
   "source": [
    "# 2025.09.22"
   ]
  },
  {
   "cell_type": "code",
   "execution_count": 17,
   "id": "cd8e597f",
   "metadata": {},
   "outputs": [
    {
     "name": "stdout",
     "output_type": "stream",
     "text": [
      "         *\n",
      "        ***\n",
      "       *****\n",
      "      *******\n",
      "     *********\n",
      "    ***********\n",
      "   *************\n",
      "  ***************\n",
      " *****************\n",
      "*******************\n"
     ]
    }
   ],
   "source": [
    "# *로 트리 만들기\n",
    "n = 10\n",
    "\n",
    "for i in range(1, n + 1):\n",
    "    for j in range(n-i):\n",
    "        print(' ', end=\"\")\n",
    "    for j in range(2 *i-1):\n",
    "        print('*', end=\"\")\n",
    "    print()"
   ]
  },
  {
   "cell_type": "code",
   "execution_count": 8,
   "id": "b3a2b0e6",
   "metadata": {},
   "outputs": [
    {
     "name": "stdout",
     "output_type": "stream",
     "text": [
      "         *\n",
      "        ***\n",
      "       *****\n",
      "      *******\n",
      "     *********\n",
      "    ***********\n",
      "   *************\n",
      "  ***************\n",
      " *****************\n",
      "*******************\n"
     ]
    }
   ],
   "source": [
    "n = 10\n",
    "for i in range(1, n+1):\n",
    "    spaces = \" \"* (n-i)\n",
    "    stars = \"*\" * (2 *i -1)\n",
    "    print(spaces + stars)"
   ]
  },
  {
   "cell_type": "code",
   "execution_count": 60,
   "id": "ea31cc0b",
   "metadata": {},
   "outputs": [
    {
     "name": "stdout",
     "output_type": "stream",
     "text": [
      "(i = 0, j = 0)\n",
      "(i = 0, j = 1)\n",
      "(i = 0, j = 2)\n",
      "(i = 0, j = 3)\n",
      "(i = 0, j = 4)\n",
      "(i = 1, j = 0)\n",
      "(i = 1, j = 1)\n",
      "(i = 1, j = 2)\n",
      "(i = 1, j = 3)\n",
      "(i = 1, j = 4)\n",
      "(i = 2, j = 0)\n",
      "(i = 2, j = 1)\n",
      "(i = 2, j = 2)\n",
      "(i = 2, j = 3)\n",
      "6\n"
     ]
    }
   ],
   "source": [
    "# 중첩반복문에서의 탈출\n",
    "number = 0\n",
    "\n",
    "for i in range(5):\n",
    "    for j in range(5):\n",
    "        print(f\"(i = {i}, j = {j})\")\n",
    "        number = i * j\n",
    "        if i == 2 and j == 3:\n",
    "            break\n",
    "    if i == 2 and j == 3:\n",
    "        break\n",
    "print(number)"
   ]
  },
  {
   "cell_type": "code",
   "execution_count": null,
   "id": "a3428aed",
   "metadata": {},
   "outputs": [
    {
     "name": "stdout",
     "output_type": "stream",
     "text": [
      "*\n",
      "**\n",
      "***\n",
      "****\n",
      "*****\n",
      "******\n",
      "*******\n",
      "**"
     ]
    }
   ],
   "source": [
    "# 사용자로부터 n개의 별의 갯수를 입력받은 뒤\n",
    "# 별을 출력하되 별의 갯수만큼만 출력하다가 별이 다 소진되면 멈추는 반트리\n",
    "# 트리의 최대 높이는 10층\n",
    "\n",
    "n = int(input())\n",
    "\n",
    "star = 0\n",
    "floor_max = False #스위치 같은것이라 생각하면 됨\n",
    "\n",
    "for i in range(1, 11):\n",
    "    for j in range(i):\n",
    "        star += 1\n",
    "        if star>n:\n",
    "            floor_max = True\n",
    "            break\n",
    "        print(\"*\", end=\"\")\n",
    "    if floor_max: #원래는star>n이 들어가도 되는데 for문이 많을 때는 그냥 변수 쓰는걸로\n",
    "        break\n",
    "    print()"
   ]
  },
  {
   "cell_type": "code",
   "execution_count": 76,
   "id": "f79cac4b",
   "metadata": {},
   "outputs": [],
   "source": [
    "mystr = \"Hello, Python\""
   ]
  },
  {
   "cell_type": "code",
   "execution_count": 74,
   "id": "b1c179b0",
   "metadata": {},
   "outputs": [
    {
     "data": {
      "text/plain": [
       "'l'"
      ]
     },
     "execution_count": 74,
     "metadata": {},
     "output_type": "execute_result"
    }
   ],
   "source": [
    "mystr[3] #문자열 인덱싱"
   ]
  },
  {
   "cell_type": "code",
   "execution_count": 77,
   "id": "f1bb2d0b",
   "metadata": {},
   "outputs": [
    {
     "data": {
      "text/plain": [
       "'o'"
      ]
     },
     "execution_count": 77,
     "metadata": {},
     "output_type": "execute_result"
    }
   ],
   "source": [
    "mystr[-2] #문자열 음의 인덱싱"
   ]
  },
  {
   "cell_type": "code",
   "execution_count": 80,
   "id": "3f0171fc",
   "metadata": {},
   "outputs": [
    {
     "data": {
      "text/plain": [
       "'Python'"
      ]
     },
     "execution_count": 80,
     "metadata": {},
     "output_type": "execute_result"
    }
   ],
   "source": [
    "mystr[7:13] #문자열 여러가지 인덱싱"
   ]
  },
  {
   "cell_type": "code",
   "execution_count": 82,
   "id": "2df2a4d6",
   "metadata": {},
   "outputs": [
    {
     "data": {
      "text/plain": [
       "'Python'"
      ]
     },
     "execution_count": 82,
     "metadata": {},
     "output_type": "execute_result"
    }
   ],
   "source": [
    "mystr[7:]"
   ]
  },
  {
   "cell_type": "code",
   "execution_count": null,
   "id": "e7283711",
   "metadata": {},
   "outputs": [
    {
     "data": {
      "text/plain": [
       "'Hlo yhn'"
      ]
     },
     "execution_count": 84,
     "metadata": {},
     "output_type": "execute_result"
    }
   ],
   "source": [
    "mystr[::2] #슬라이싱(start:end:step)"
   ]
  },
  {
   "cell_type": "code",
   "execution_count": null,
   "id": "6b94d230",
   "metadata": {},
   "outputs": [
    {
     "data": {
      "text/plain": [
       "'nohtyP ,olleH'"
      ]
     },
     "execution_count": 85,
     "metadata": {},
     "output_type": "execute_result"
    }
   ],
   "source": [
    "mystr[::-1] #거꾸로"
   ]
  },
  {
   "cell_type": "code",
   "execution_count": 87,
   "id": "85aeabb4",
   "metadata": {},
   "outputs": [
    {
     "data": {
      "text/plain": [
       "str"
      ]
     },
     "execution_count": 87,
     "metadata": {},
     "output_type": "execute_result"
    }
   ],
   "source": [
    "type(mystr)"
   ]
  },
  {
   "cell_type": "code",
   "execution_count": 89,
   "id": "2c6a3431",
   "metadata": {},
   "outputs": [
    {
     "data": {
      "text/plain": [
       "13"
      ]
     },
     "execution_count": 89,
     "metadata": {},
     "output_type": "execute_result"
    }
   ],
   "source": [
    "len(mystr)"
   ]
  },
  {
   "cell_type": "code",
   "execution_count": null,
   "id": "8fa3218d",
   "metadata": {},
   "outputs": [
    {
     "name": "stdout",
     "output_type": "stream",
     "text": [
      "H\n",
      "e\n",
      "l\n",
      "l\n",
      "o\n",
      ",\n",
      " \n",
      "P\n",
      "y\n",
      "t\n",
      "h\n",
      "o\n",
      "n\n"
     ]
    }
   ],
   "source": [
    "for i in mystr: # range와 같은 바구니 역할을 할 수 있음\n",
    "    print(i) #print(\"hello\") 해보면 hello가 13개 나옴"
   ]
  },
  {
   "cell_type": "code",
   "execution_count": 93,
   "id": "fbf0681b",
   "metadata": {},
   "outputs": [
    {
     "name": "stdout",
     "output_type": "stream",
     "text": [
      "H\n",
      "e\n",
      "l\n",
      "l\n",
      "o\n",
      ",\n",
      " \n",
      "P\n",
      "y\n",
      "t\n",
      "h\n",
      "o\n",
      "n\n"
     ]
    }
   ],
   "source": [
    "for i  in range(len(mystr)):\n",
    "    print(mystr[i])"
   ]
  },
  {
   "cell_type": "code",
   "execution_count": 94,
   "id": "cae93078",
   "metadata": {},
   "outputs": [
    {
     "data": {
      "text/plain": [
       "'hello, python'"
      ]
     },
     "execution_count": 94,
     "metadata": {},
     "output_type": "execute_result"
    }
   ],
   "source": [
    "mystr.lower()"
   ]
  },
  {
   "cell_type": "code",
   "execution_count": 95,
   "id": "6d898396",
   "metadata": {},
   "outputs": [
    {
     "data": {
      "text/plain": [
       "'HELLO, PYTHON'"
      ]
     },
     "execution_count": 95,
     "metadata": {},
     "output_type": "execute_result"
    }
   ],
   "source": [
    "mystr.upper()"
   ]
  },
  {
   "cell_type": "code",
   "execution_count": 101,
   "id": "4eea9dd8",
   "metadata": {},
   "outputs": [
    {
     "name": "stdout",
     "output_type": "stream",
     "text": [
      "['Hello, ', 'ython']\n"
     ]
    }
   ],
   "source": [
    "words = mystr.split(\"P\")\n",
    "print(words)"
   ]
  },
  {
   "cell_type": "markdown",
   "id": "ec16ec55",
   "metadata": {},
   "source": [
    "# 리스트"
   ]
  },
  {
   "cell_type": "code",
   "execution_count": 116,
   "id": "8bc734ec",
   "metadata": {},
   "outputs": [],
   "source": [
    "numbers1 = [1, 2, 3, 4, 5]\n",
    "numbers2 = [6, 7, 8, 9, 10]"
   ]
  },
  {
   "cell_type": "code",
   "execution_count": 117,
   "id": "5014fb76",
   "metadata": {},
   "outputs": [
    {
     "data": {
      "text/plain": [
       "[1, 2, 3, 4, 5, 6, 7, 8, 9, 10]"
      ]
     },
     "execution_count": 117,
     "metadata": {},
     "output_type": "execute_result"
    }
   ],
   "source": [
    "numbers1 + numbers2"
   ]
  },
  {
   "cell_type": "code",
   "execution_count": 132,
   "id": "81c8c772",
   "metadata": {},
   "outputs": [],
   "source": [
    "fruits = ['a','b','c']"
   ]
  },
  {
   "cell_type": "code",
   "execution_count": 113,
   "id": "a42e039b",
   "metadata": {},
   "outputs": [],
   "source": [
    "mixed = [1, 'a', True, [10, 20, 30]]"
   ]
  },
  {
   "cell_type": "code",
   "execution_count": 119,
   "id": "4a6a9207",
   "metadata": {},
   "outputs": [
    {
     "data": {
      "text/plain": [
       "['a', 'b']"
      ]
     },
     "execution_count": 119,
     "metadata": {},
     "output_type": "execute_result"
    }
   ],
   "source": [
    "fruits[:2]"
   ]
  },
  {
   "cell_type": "code",
   "execution_count": 133,
   "id": "41eb44f5",
   "metadata": {},
   "outputs": [],
   "source": [
    "fruits[0]=\"g\" # 기존 값 수정"
   ]
  },
  {
   "cell_type": "code",
   "execution_count": 135,
   "id": "0227abbc",
   "metadata": {},
   "outputs": [
    {
     "data": {
      "text/plain": [
       "['g', 'b', 'c']"
      ]
     },
     "execution_count": 135,
     "metadata": {},
     "output_type": "execute_result"
    }
   ],
   "source": [
    "fruits"
   ]
  },
  {
   "cell_type": "code",
   "execution_count": 144,
   "id": "f5980fd5",
   "metadata": {},
   "outputs": [],
   "source": [
    "fruits.append(\"d\") #기존 값에서 d추가"
   ]
  },
  {
   "cell_type": "code",
   "execution_count": 130,
   "id": "628036af",
   "metadata": {},
   "outputs": [
    {
     "data": {
      "text/plain": [
       "['g', 'b', 'f', 'c', 'd', 'd']"
      ]
     },
     "execution_count": 130,
     "metadata": {},
     "output_type": "execute_result"
    }
   ],
   "source": [
    "fruits"
   ]
  },
  {
   "cell_type": "code",
   "execution_count": null,
   "id": "e62ae834",
   "metadata": {},
   "outputs": [],
   "source": [
    "fruits.insert(2,'f') #기존 값에 특정 위치에 f추가"
   ]
  },
  {
   "cell_type": "code",
   "execution_count": 127,
   "id": "5afa5728",
   "metadata": {},
   "outputs": [
    {
     "data": {
      "text/plain": [
       "['g', 'b', 'f', 'c', 'd']"
      ]
     },
     "execution_count": 127,
     "metadata": {},
     "output_type": "execute_result"
    }
   ],
   "source": [
    "fruits"
   ]
  },
  {
   "cell_type": "code",
   "execution_count": 136,
   "id": "10d86724",
   "metadata": {},
   "outputs": [],
   "source": [
    "fruits.extend(['o','p'])"
   ]
  },
  {
   "cell_type": "code",
   "execution_count": 137,
   "id": "9083dbf5",
   "metadata": {},
   "outputs": [
    {
     "data": {
      "text/plain": [
       "['g', 'b', 'c', 'o', 'p']"
      ]
     },
     "execution_count": 137,
     "metadata": {},
     "output_type": "execute_result"
    }
   ],
   "source": [
    "fruits"
   ]
  },
  {
   "cell_type": "code",
   "execution_count": 138,
   "id": "826d6a8d",
   "metadata": {},
   "outputs": [
    {
     "data": {
      "text/plain": [
       "'b'"
      ]
     },
     "execution_count": 138,
     "metadata": {},
     "output_type": "execute_result"
    }
   ],
   "source": [
    "fruits.pop(1)"
   ]
  },
  {
   "cell_type": "code",
   "execution_count": 139,
   "id": "de70adcc",
   "metadata": {},
   "outputs": [
    {
     "data": {
      "text/plain": [
       "['g', 'c', 'o', 'p']"
      ]
     },
     "execution_count": 139,
     "metadata": {},
     "output_type": "execute_result"
    }
   ],
   "source": [
    "fruits"
   ]
  },
  {
   "cell_type": "code",
   "execution_count": 140,
   "id": "a7d4cd25",
   "metadata": {},
   "outputs": [],
   "source": [
    "fruits.remove(\"c\")"
   ]
  },
  {
   "cell_type": "code",
   "execution_count": 141,
   "id": "76291d78",
   "metadata": {},
   "outputs": [
    {
     "data": {
      "text/plain": [
       "['g', 'o', 'p']"
      ]
     },
     "execution_count": 141,
     "metadata": {},
     "output_type": "execute_result"
    }
   ],
   "source": [
    "fruits"
   ]
  },
  {
   "cell_type": "code",
   "execution_count": 142,
   "id": "95ca7b1c",
   "metadata": {},
   "outputs": [
    {
     "data": {
      "text/plain": [
       "1"
      ]
     },
     "execution_count": 142,
     "metadata": {},
     "output_type": "execute_result"
    }
   ],
   "source": [
    "fruits. index(\"o\")"
   ]
  },
  {
   "cell_type": "code",
   "execution_count": 145,
   "id": "50b64428",
   "metadata": {},
   "outputs": [
    {
     "data": {
      "text/plain": [
       "['g', 'o', 'p', 'd', 'd']"
      ]
     },
     "execution_count": 145,
     "metadata": {},
     "output_type": "execute_result"
    }
   ],
   "source": [
    "fruits"
   ]
  },
  {
   "cell_type": "code",
   "execution_count": 146,
   "id": "cf67ffad",
   "metadata": {},
   "outputs": [
    {
     "data": {
      "text/plain": [
       "2"
      ]
     },
     "execution_count": 146,
     "metadata": {},
     "output_type": "execute_result"
    }
   ],
   "source": [
    "fruits.count(\"d\")"
   ]
  },
  {
   "cell_type": "code",
   "execution_count": 147,
   "id": "e8ef1025",
   "metadata": {},
   "outputs": [],
   "source": [
    "fruits.remove(\"d\")"
   ]
  },
  {
   "cell_type": "code",
   "execution_count": 148,
   "id": "6d54afd4",
   "metadata": {},
   "outputs": [
    {
     "data": {
      "text/plain": [
       "['g', 'o', 'p', 'd']"
      ]
     },
     "execution_count": 148,
     "metadata": {},
     "output_type": "execute_result"
    }
   ],
   "source": [
    "fruits"
   ]
  },
  {
   "cell_type": "code",
   "execution_count": 150,
   "id": "1ea77f6c",
   "metadata": {},
   "outputs": [],
   "source": [
    "fruits.append(\"a\")"
   ]
  },
  {
   "cell_type": "code",
   "execution_count": 151,
   "id": "32262adc",
   "metadata": {},
   "outputs": [],
   "source": [
    "fruits.sort()"
   ]
  },
  {
   "cell_type": "code",
   "execution_count": 152,
   "id": "957a5a30",
   "metadata": {},
   "outputs": [
    {
     "data": {
      "text/plain": [
       "['a', 'd', 'g', 'o', 'p']"
      ]
     },
     "execution_count": 152,
     "metadata": {},
     "output_type": "execute_result"
    }
   ],
   "source": [
    "fruits"
   ]
  },
  {
   "cell_type": "code",
   "execution_count": 154,
   "id": "ec0e7b92",
   "metadata": {},
   "outputs": [],
   "source": [
    "fruits.sort(reverse=True)"
   ]
  },
  {
   "cell_type": "code",
   "execution_count": 155,
   "id": "7b29e22a",
   "metadata": {},
   "outputs": [
    {
     "data": {
      "text/plain": [
       "['p', 'o', 'g', 'd', 'a']"
      ]
     },
     "execution_count": 155,
     "metadata": {},
     "output_type": "execute_result"
    }
   ],
   "source": [
    "fruits"
   ]
  },
  {
   "cell_type": "code",
   "execution_count": 156,
   "id": "79b91c2b",
   "metadata": {},
   "outputs": [],
   "source": [
    "fruits.reverse()"
   ]
  },
  {
   "cell_type": "code",
   "execution_count": 157,
   "id": "d7ee3649",
   "metadata": {},
   "outputs": [
    {
     "data": {
      "text/plain": [
       "['a', 'd', 'g', 'o', 'p']"
      ]
     },
     "execution_count": 157,
     "metadata": {},
     "output_type": "execute_result"
    }
   ],
   "source": [
    "fruits"
   ]
  },
  {
   "cell_type": "code",
   "execution_count": 158,
   "id": "fb246718",
   "metadata": {},
   "outputs": [
    {
     "name": "stdout",
     "output_type": "stream",
     "text": [
      "a\n",
      "d\n",
      "g\n",
      "o\n",
      "p\n"
     ]
    }
   ],
   "source": [
    "for i in fruits:\n",
    "    print(i)"
   ]
  },
  {
   "cell_type": "code",
   "execution_count": 160,
   "id": "e21c2978",
   "metadata": {},
   "outputs": [
    {
     "name": "stdout",
     "output_type": "stream",
     "text": [
      "0번째 과일a\n",
      "1번째 과일d\n",
      "2번째 과일g\n",
      "3번째 과일o\n",
      "4번째 과일p\n"
     ]
    }
   ],
   "source": [
    "for i in range(len(fruits)):\n",
    "    print(f\"{i}번째 과일{fruits[i]}\")"
   ]
  },
  {
   "cell_type": "code",
   "execution_count": 161,
   "id": "ec4f8950",
   "metadata": {},
   "outputs": [
    {
     "data": {
      "text/plain": [
       "[1, 2, 3, 4, 5]"
      ]
     },
     "execution_count": 161,
     "metadata": {},
     "output_type": "execute_result"
    }
   ],
   "source": [
    "numbers"
   ]
  },
  {
   "cell_type": "code",
   "execution_count": 162,
   "id": "a9aa1493",
   "metadata": {},
   "outputs": [
    {
     "data": {
      "text/plain": [
       "5"
      ]
     },
     "execution_count": 162,
     "metadata": {},
     "output_type": "execute_result"
    }
   ],
   "source": [
    "max(numbers)"
   ]
  },
  {
   "cell_type": "code",
   "execution_count": 163,
   "id": "f9597ebe",
   "metadata": {},
   "outputs": [
    {
     "data": {
      "text/plain": [
       "1"
      ]
     },
     "execution_count": 163,
     "metadata": {},
     "output_type": "execute_result"
    }
   ],
   "source": [
    "min(numbers)"
   ]
  },
  {
   "cell_type": "code",
   "execution_count": 164,
   "id": "1eb94d40",
   "metadata": {},
   "outputs": [
    {
     "data": {
      "text/plain": [
       "3.0"
      ]
     },
     "execution_count": 164,
     "metadata": {},
     "output_type": "execute_result"
    }
   ],
   "source": [
    "sum(numbers)/len(numbers)"
   ]
  },
  {
   "cell_type": "code",
   "execution_count": 171,
   "id": "b02d95d6",
   "metadata": {},
   "outputs": [
    {
     "data": {
      "text/plain": [
       "[1, 2, 3, 4, 5, 6, 7, 8, 9, 10]"
      ]
     },
     "execution_count": 171,
     "metadata": {},
     "output_type": "execute_result"
    }
   ],
   "source": [
    "# 반복문을 이용해서 리스트를 간단하게생성 -> 리스트 컴프리헨션\n",
    "numbers = [i for i in range(1, 11)]\n",
    "numbers"
   ]
  },
  {
   "cell_type": "code",
   "execution_count": 172,
   "id": "fb039a85",
   "metadata": {},
   "outputs": [
    {
     "data": {
      "text/plain": [
       "[1, 4, 9, 16, 25, 36, 49, 64, 81, 100]"
      ]
     },
     "execution_count": 172,
     "metadata": {},
     "output_type": "execute_result"
    }
   ],
   "source": [
    "numbers = [i**2 for i in range(1, 11)]\n",
    "numbers"
   ]
  },
  {
   "cell_type": "code",
   "execution_count": 173,
   "id": "abe8d10d",
   "metadata": {},
   "outputs": [
    {
     "data": {
      "text/plain": [
       "[2, 4, 6, 8, 10]"
      ]
     },
     "execution_count": 173,
     "metadata": {},
     "output_type": "execute_result"
    }
   ],
   "source": [
    "numbers = [i for i in range(1, 11) if i % 2 == 0]\n",
    "numbers"
   ]
  },
  {
   "cell_type": "code",
   "execution_count": null,
   "id": "8ad08645",
   "metadata": {},
   "outputs": [
    {
     "name": "stdout",
     "output_type": "stream",
     "text": [
      "1번 학생은 합격입니다.\n",
      "2번 학생은 불합격입니다.\n",
      "3번 학생은 합격입니다.\n",
      "4번 학생은 불합격입니다.\n",
      "5번 학생은 합격입니다.\n"
     ]
    }
   ],
   "source": [
    "marks = [90, 25, 67, 45, 80]\n",
    "번호 = 0\n",
    "\n",
    "for i in marks:\n",
    "    번호 += 1\n",
    "    if i>=60:\n",
    "        print(f\"{번호}번 학생은 합격입니다.\")\n",
    "    else:\n",
    "        print(f\"{번호}번 학생은 불합격입니다.\")"
   ]
  },
  {
   "cell_type": "code",
   "execution_count": 184,
   "id": "14077d84",
   "metadata": {},
   "outputs": [
    {
     "name": "stdout",
     "output_type": "stream",
     "text": [
      "1번 학생은 합격입니다.\n",
      "2번 학생은 불합격입니다.\n",
      "3번 학생은 합격입니다.\n",
      "4번 학생은 불합격입니다.\n",
      "5번 학생은 합격입니다.\n"
     ]
    }
   ],
   "source": [
    "marks = [90, 25, 67, 45, 80]\n",
    "for i in range(len(marks)):\n",
    "    if marks[i]>=60:\n",
    "        print(f\"{i+1}번 학생은 합격입니다.\")\n",
    "    else:\n",
    "        print(f\"{i+1}번 학생은 불합격입니다.\")"
   ]
  },
  {
   "cell_type": "code",
   "execution_count": 2,
   "id": "0d12e2ff",
   "metadata": {},
   "outputs": [
    {
     "name": "stdout",
     "output_type": "stream",
     "text": [
      "끝말잇기 게임\n",
      "시작\n",
      "가나다\n",
      "단어를 입력해주세요 : 다람쥐\n",
      "단어를 입력해주세요 : 쥐포\n",
      "단어를 입력해주세요 : 포포\n",
      "땡\n"
     ]
    }
   ],
   "source": [
    "#끝말 잇기 게임\n",
    "print(\"끝말잇기 게임\")\n",
    "print(\"시작\")\n",
    "var= \"가나다\"\n",
    "\n",
    "print(var)\n",
    "while True:\n",
    "    마지막단어 = input()\n",
    "    if 마지막단어[0] == var[-1]:\n",
    "        print(f\"단어를 입력해주세요 : {마지막단어}\")\n",
    "        var = 마지막단어\n",
    "    else:\n",
    "        print(\"땡\")\n",
    "        break"
   ]
  },
  {
   "cell_type": "code",
   "execution_count": null,
   "id": "0cb5acc6",
   "metadata": {},
   "outputs": [
    {
     "data": {
      "text/plain": [
       "[1, 3, 0, 1]"
      ]
     },
     "execution_count": 13,
     "metadata": {},
     "output_type": "execute_result"
    }
   ],
   "source": [
    "no1 = [1, 1, 3, 3, 0, 1, 1]\n",
    "\n",
    "ans = []\n",
    "comp = no1[0]\n",
    "ans.append(comp)\n",
    "\n",
    "for i in no1:\n",
    "    if comp != i: #이전숫자와 같은지 비교\n",
    "        comp = i #다르다면 비교할 숫자 갱신\n",
    "        ans.append(comp) #새로운 숫자이므로 리스트에 삽입\n",
    "ans"
   ]
  },
  {
   "cell_type": "code",
   "execution_count": 14,
   "id": "36e53c74",
   "metadata": {},
   "outputs": [],
   "source": [
    "student = {\"name\": \"jimin\", \"age\": 29, \"hobby\":\"game\"}"
   ]
  },
  {
   "cell_type": "code",
   "execution_count": 15,
   "id": "a89999ae",
   "metadata": {},
   "outputs": [
    {
     "data": {
      "text/plain": [
       "{'name': 'jimin', 'age': 29, 'hobby': 'game'}"
      ]
     },
     "execution_count": 15,
     "metadata": {},
     "output_type": "execute_result"
    }
   ],
   "source": [
    "student"
   ]
  },
  {
   "cell_type": "code",
   "execution_count": 16,
   "id": "e3c24ce0",
   "metadata": {},
   "outputs": [
    {
     "data": {
      "text/plain": [
       "dict"
      ]
     },
     "execution_count": 16,
     "metadata": {},
     "output_type": "execute_result"
    }
   ],
   "source": [
    "type(student)"
   ]
  },
  {
   "cell_type": "code",
   "execution_count": 19,
   "id": "86be6439",
   "metadata": {},
   "outputs": [
    {
     "data": {
      "text/plain": [
       "29"
      ]
     },
     "execution_count": 19,
     "metadata": {},
     "output_type": "execute_result"
    }
   ],
   "source": [
    "student[\"age\"]"
   ]
  },
  {
   "cell_type": "code",
   "execution_count": 21,
   "id": "5adcd35e",
   "metadata": {},
   "outputs": [
    {
     "data": {
      "text/plain": [
       "dict_keys(['name', 'age', 'hobby'])"
      ]
     },
     "execution_count": 21,
     "metadata": {},
     "output_type": "execute_result"
    }
   ],
   "source": [
    "student.keys()"
   ]
  },
  {
   "cell_type": "code",
   "execution_count": 22,
   "id": "d4229e12",
   "metadata": {},
   "outputs": [
    {
     "name": "stdout",
     "output_type": "stream",
     "text": [
      "name\n",
      "age\n",
      "hobby\n"
     ]
    }
   ],
   "source": [
    "for i in student.keys():\n",
    "    print(i)"
   ]
  },
  {
   "cell_type": "code",
   "execution_count": 23,
   "id": "f4a51948",
   "metadata": {},
   "outputs": [
    {
     "name": "stdout",
     "output_type": "stream",
     "text": [
      "jimin\n",
      "29\n",
      "game\n"
     ]
    }
   ],
   "source": [
    "for i in student.values():\n",
    "    print(i)"
   ]
  },
  {
   "cell_type": "code",
   "execution_count": 25,
   "id": "3693c093",
   "metadata": {},
   "outputs": [
    {
     "name": "stdout",
     "output_type": "stream",
     "text": [
      "('name', 'jimin')\n",
      "('age', 29)\n",
      "('hobby', 'game')\n"
     ]
    }
   ],
   "source": [
    "for i in student.items():\n",
    "    print(i)"
   ]
  },
  {
   "cell_type": "code",
   "execution_count": 27,
   "id": "390b9f31",
   "metadata": {},
   "outputs": [],
   "source": [
    "student[\"name\"] = \"망개떡\" "
   ]
  },
  {
   "cell_type": "code",
   "execution_count": 28,
   "id": "6f414aa4",
   "metadata": {},
   "outputs": [
    {
     "data": {
      "text/plain": [
       "{'name': '망개떡', 'age': 29, 'hobby': 'game'}"
      ]
     },
     "execution_count": 28,
     "metadata": {},
     "output_type": "execute_result"
    }
   ],
   "source": [
    "student"
   ]
  },
  {
   "cell_type": "code",
   "execution_count": 29,
   "id": "2abbd08f",
   "metadata": {},
   "outputs": [],
   "source": [
    "student[\"addr\"] = \"서울시 용산구\""
   ]
  },
  {
   "cell_type": "code",
   "execution_count": 30,
   "id": "470ff607",
   "metadata": {},
   "outputs": [
    {
     "data": {
      "text/plain": [
       "{'name': '망개떡', 'age': 29, 'hobby': 'game', 'addr': '서울시 용산구'}"
      ]
     },
     "execution_count": 30,
     "metadata": {},
     "output_type": "execute_result"
    }
   ],
   "source": [
    "student"
   ]
  },
  {
   "cell_type": "code",
   "execution_count": 32,
   "id": "25200989",
   "metadata": {},
   "outputs": [],
   "source": [
    "student.get(\"addr2\")"
   ]
  },
  {
   "cell_type": "code",
   "execution_count": 33,
   "id": "7a3ae1fa",
   "metadata": {},
   "outputs": [
    {
     "data": {
      "text/plain": [
       "('addr', '서울시 용산구')"
      ]
     },
     "execution_count": 33,
     "metadata": {},
     "output_type": "execute_result"
    }
   ],
   "source": [
    "student.popitem()"
   ]
  },
  {
   "cell_type": "code",
   "execution_count": 35,
   "id": "e146a2c7",
   "metadata": {},
   "outputs": [
    {
     "data": {
      "text/plain": [
       "{'name': '망개떡', 'age': 29, 'hobby': 'game'}"
      ]
     },
     "execution_count": 35,
     "metadata": {},
     "output_type": "execute_result"
    }
   ],
   "source": [
    "student"
   ]
  },
  {
   "cell_type": "code",
   "execution_count": 36,
   "id": "9039b60c",
   "metadata": {},
   "outputs": [
    {
     "data": {
      "text/plain": [
       "True"
      ]
     },
     "execution_count": 36,
     "metadata": {},
     "output_type": "execute_result"
    }
   ],
   "source": [
    "\"name\" in student.keys()"
   ]
  },
  {
   "cell_type": "code",
   "execution_count": 43,
   "id": "f239b53d",
   "metadata": {},
   "outputs": [
    {
     "data": {
      "text/plain": [
       "True"
      ]
     },
     "execution_count": 43,
     "metadata": {},
     "output_type": "execute_result"
    }
   ],
   "source": [
    "29 in student.values()"
   ]
  },
  {
   "cell_type": "code",
   "execution_count": null,
   "id": "8d684716",
   "metadata": {},
   "outputs": [
    {
     "name": "stdout",
     "output_type": "stream",
     "text": [
      "name 망개떡\n",
      "age 29\n",
      "hobby game\n"
     ]
    }
   ],
   "source": [
    "for i, j in student.items(): # i=key, j=value\n",
    "    print(i,j)"
   ]
  },
  {
   "cell_type": "code",
   "execution_count": 45,
   "id": "f2531264",
   "metadata": {},
   "outputs": [],
   "source": [
    "#모스부호  \n",
    "#문자열 letter가 주어질 때, letter를 영어 소문자로 바꾼 문자열을 출력 하도록 코드작성 \n",
    "#모스부호는 다음과 같습니다. \n",
    "\n",
    "morse = { \n",
    "\n",
    "    '.-':'a','-...':'b','-.-.':'c','-..':'d','.':'e','..-.':'f', \n",
    "\n",
    "    '--.':'g','....':'h','..':'i','.---':'j','-.-':'k','.-..':'l', \n",
    "\n",
    "    '--':'m','-.':'n','---':'o','.--.':'p','--.-':'q','.-.':'r', \n",
    "\n",
    "    '...':'s','-':'t','..-':'u','...-':'v','.--':'w','-..-':'x', \n",
    "\n",
    "    '-.--':'y','--..':'z' \n",
    "\n",
    "} \n",
    "\n",
    "\n",
    "#입출력 예 \n",
    "#letter  result \n",
    "#.... . .-.. .-.. ---\"  \"hello\" \n",
    "#\".--. -.-- - .... --- -.\"   \"python\" "
   ]
  },
  {
   "cell_type": "code",
   "execution_count": 68,
   "id": "54e73dce",
   "metadata": {},
   "outputs": [
    {
     "name": "stdout",
     "output_type": "stream",
     "text": [
      "hi"
     ]
    }
   ],
   "source": [
    "a = input().split()\n",
    "for i in a :\n",
    "    print(morse[i], end=\"\")"
   ]
  },
  {
   "cell_type": "code",
   "execution_count": 69,
   "id": "dcc752e7",
   "metadata": {},
   "outputs": [],
   "source": [
    "#set 자료형\n",
    "s = {1, 2, 3, 4, 2, 3}"
   ]
  },
  {
   "cell_type": "code",
   "execution_count": 70,
   "id": "12b44099",
   "metadata": {},
   "outputs": [
    {
     "data": {
      "text/plain": [
       "set"
      ]
     },
     "execution_count": 70,
     "metadata": {},
     "output_type": "execute_result"
    }
   ],
   "source": [
    "type(s)"
   ]
  },
  {
   "cell_type": "code",
   "execution_count": 71,
   "id": "97151e65",
   "metadata": {},
   "outputs": [
    {
     "data": {
      "text/plain": [
       "{1, 2, 3, 4}"
      ]
     },
     "execution_count": 71,
     "metadata": {},
     "output_type": "execute_result"
    }
   ],
   "source": [
    "s"
   ]
  },
  {
   "cell_type": "code",
   "execution_count": 73,
   "id": "e17c7307",
   "metadata": {},
   "outputs": [],
   "source": [
    "s.add(5)"
   ]
  },
  {
   "cell_type": "code",
   "execution_count": 74,
   "id": "6e09938d",
   "metadata": {},
   "outputs": [
    {
     "data": {
      "text/plain": [
       "1"
      ]
     },
     "execution_count": 74,
     "metadata": {},
     "output_type": "execute_result"
    }
   ],
   "source": [
    "s.pop()"
   ]
  },
  {
   "cell_type": "code",
   "execution_count": 75,
   "id": "a3bb022a",
   "metadata": {},
   "outputs": [
    {
     "data": {
      "text/plain": [
       "{2, 3, 4, 5}"
      ]
     },
     "execution_count": 75,
     "metadata": {},
     "output_type": "execute_result"
    }
   ],
   "source": [
    "s"
   ]
  },
  {
   "cell_type": "code",
   "execution_count": 76,
   "id": "7683debe",
   "metadata": {},
   "outputs": [],
   "source": [
    "s.remove(3)"
   ]
  },
  {
   "cell_type": "code",
   "execution_count": 77,
   "id": "97112c77",
   "metadata": {},
   "outputs": [
    {
     "data": {
      "text/plain": [
       "{2, 4, 5}"
      ]
     },
     "execution_count": 77,
     "metadata": {},
     "output_type": "execute_result"
    }
   ],
   "source": [
    "s"
   ]
  },
  {
   "cell_type": "code",
   "execution_count": 78,
   "id": "ba58db40",
   "metadata": {},
   "outputs": [],
   "source": [
    "mystr = [1, 2, 3, 5, 1, 2, 3]"
   ]
  },
  {
   "cell_type": "code",
   "execution_count": 79,
   "id": "fd42bc66",
   "metadata": {},
   "outputs": [
    {
     "data": {
      "text/plain": [
       "[1, 2, 3, 5]"
      ]
     },
     "execution_count": 79,
     "metadata": {},
     "output_type": "execute_result"
    }
   ],
   "source": [
    "list(set(mystr))"
   ]
  },
  {
   "cell_type": "code",
   "execution_count": 84,
   "id": "969f8cd0",
   "metadata": {},
   "outputs": [],
   "source": [
    "a = {1, 2, 3, 4}\n",
    "b = {3, 4, 5, 6}"
   ]
  },
  {
   "cell_type": "code",
   "execution_count": null,
   "id": "93f5a351",
   "metadata": {},
   "outputs": [],
   "source": [
    "a or b"
   ]
  },
  {
   "cell_type": "code",
   "execution_count": 82,
   "id": "e4816f1d",
   "metadata": {},
   "outputs": [
    {
     "data": {
      "text/plain": [
       "{1, 2, 3, 4, 5, 6}"
      ]
     },
     "execution_count": 82,
     "metadata": {},
     "output_type": "execute_result"
    }
   ],
   "source": [
    "a.union(b)"
   ]
  },
  {
   "cell_type": "code",
   "execution_count": 85,
   "id": "12f1f7c1",
   "metadata": {},
   "outputs": [
    {
     "data": {
      "text/plain": [
       "{3, 4}"
      ]
     },
     "execution_count": 85,
     "metadata": {},
     "output_type": "execute_result"
    }
   ],
   "source": [
    "a & b"
   ]
  },
  {
   "cell_type": "code",
   "execution_count": 86,
   "id": "a1e321e4",
   "metadata": {},
   "outputs": [
    {
     "data": {
      "text/plain": [
       "{3, 4}"
      ]
     },
     "execution_count": 86,
     "metadata": {},
     "output_type": "execute_result"
    }
   ],
   "source": [
    "a.intersection(b)"
   ]
  },
  {
   "cell_type": "code",
   "execution_count": 87,
   "id": "88c919d8",
   "metadata": {},
   "outputs": [
    {
     "data": {
      "text/plain": [
       "{1, 2}"
      ]
     },
     "execution_count": 87,
     "metadata": {},
     "output_type": "execute_result"
    }
   ],
   "source": [
    "a-b"
   ]
  },
  {
   "cell_type": "code",
   "execution_count": 88,
   "id": "97d43c41",
   "metadata": {},
   "outputs": [
    {
     "data": {
      "text/plain": [
       "{1, 2}"
      ]
     },
     "execution_count": 88,
     "metadata": {},
     "output_type": "execute_result"
    }
   ],
   "source": [
    "a.difference(b)"
   ]
  },
  {
   "cell_type": "code",
   "execution_count": 91,
   "id": "107f4cbc",
   "metadata": {},
   "outputs": [],
   "source": [
    "# 튜플\n",
    "t1 = (1, 2, 3)"
   ]
  },
  {
   "cell_type": "code",
   "execution_count": 92,
   "id": "33a693e0",
   "metadata": {},
   "outputs": [
    {
     "data": {
      "text/plain": [
       "tuple"
      ]
     },
     "execution_count": 92,
     "metadata": {},
     "output_type": "execute_result"
    }
   ],
   "source": [
    "type(t1)"
   ]
  },
  {
   "cell_type": "code",
   "execution_count": 93,
   "id": "ed541481",
   "metadata": {},
   "outputs": [
    {
     "data": {
      "text/plain": [
       "1"
      ]
     },
     "execution_count": 93,
     "metadata": {},
     "output_type": "execute_result"
    }
   ],
   "source": [
    "t1[0]"
   ]
  },
  {
   "cell_type": "code",
   "execution_count": 101,
   "id": "2123f364",
   "metadata": {},
   "outputs": [
    {
     "data": {
      "text/plain": [
       "['누드초코', '아몬드', '초코', '크런키', '화이트쿠키']"
      ]
     },
     "execution_count": 101,
     "metadata": {},
     "output_type": "execute_result"
    }
   ],
   "source": [
    "#빼빼로데이\n",
    "\n",
    "#빼빼로의 종류는 6가지 맛('누드초코', '아몬드', '초코', '크런키', '크림치즈', '화이트쿠키')이 있었습니다.\n",
    "#이벤트 빼빼로는 한가지 맛에 하나만 구매할 수 있습니다.\n",
    "#구매한 빼빼로를 오름차순으로 정렬하여 결과를 나타내 주세요.\n",
    "\n",
    "#입력1\n",
    "[\"초코\", \"누드초코\", \"크런키\", \"아몬드\", \"초코\", \"누드초코\", \"아몬드\", \"화이트쿠키\", \"초코\", \"초코\"]\n",
    "\n",
    "#출력1\n",
    "['누드초코', '아몬드', '초코', '크런키', '화이트쿠키']"
   ]
  },
  {
   "cell_type": "code",
   "execution_count": 100,
   "id": "903b3b75",
   "metadata": {},
   "outputs": [
    {
     "name": "stdout",
     "output_type": "stream",
     "text": [
      "['누드초코', '아몬드', '초코', '크런키', '화이트쿠키']\n"
     ]
    }
   ],
   "source": [
    "pepero = [\"초코\", \"누드초코\", \"크런키\", \"아몬드\", \"초코\", \"누드초코\", \"아몬드\", \"화이트쿠키\", \"초코\", \"초코\"]\n",
    "print(sorted(set(pepero)))"
   ]
  },
  {
   "cell_type": "code",
   "execution_count": 103,
   "id": "477741c6",
   "metadata": {},
   "outputs": [],
   "source": [
    "#영단어갯수세기\n",
    "\n",
    "#내가 외운 단어의 개수는 몇개일까요?\n",
    "\n",
    "#입력1\n",
    "#\"culture experience symbol symbol education symbol effect education affair liberty liberty affair\"\n",
    "\n",
    "#출력1\n",
    "#7"
   ]
  },
  {
   "cell_type": "code",
   "execution_count": 118,
   "id": "090f6549",
   "metadata": {},
   "outputs": [
    {
     "data": {
      "text/plain": [
       "7"
      ]
     },
     "execution_count": 118,
     "metadata": {},
     "output_type": "execute_result"
    }
   ],
   "source": [
    "vo = \"culture experience symbol symbol education symbol effect education affair liberty liberty affair\"\n",
    "len(set(vo.split( )))"
   ]
  },
  {
   "cell_type": "code",
   "execution_count": 122,
   "id": "9d6dba6b",
   "metadata": {},
   "outputs": [],
   "source": [
    "# 함수\n",
    "def myfunc(a):\n",
    "    print(f\"{a}, 내가 만든 함수입니다.\")"
   ]
  },
  {
   "cell_type": "code",
   "execution_count": 127,
   "id": "813bb539",
   "metadata": {},
   "outputs": [
    {
     "name": "stdout",
     "output_type": "stream",
     "text": [
      "hi, 내가 만든 함수입니다.\n",
      "hello, 내가 만든 함수입니다.\n",
      "hey, 내가 만든 함수입니다.\n"
     ]
    }
   ],
   "source": [
    "myfunc(\"hi\")\n",
    "myfunc(\"hello\")\n",
    "myfunc(\"hey\")"
   ]
  },
  {
   "cell_type": "code",
   "execution_count": 128,
   "id": "6c999c06",
   "metadata": {},
   "outputs": [],
   "source": [
    "def mysum(a,b):\n",
    "    result = a + b\n",
    "    return result"
   ]
  },
  {
   "cell_type": "code",
   "execution_count": 130,
   "id": "7defa0db",
   "metadata": {},
   "outputs": [
    {
     "data": {
      "text/plain": [
       "1266"
      ]
     },
     "execution_count": 130,
     "metadata": {},
     "output_type": "execute_result"
    }
   ],
   "source": [
    "mysum(1234,32)"
   ]
  },
  {
   "cell_type": "code",
   "execution_count": 131,
   "id": "a746b88e",
   "metadata": {},
   "outputs": [
    {
     "name": "stdout",
     "output_type": "stream",
     "text": [
      "7 11\n"
     ]
    }
   ],
   "source": [
    "num1 = mysum(3,4)\n",
    "num2 = mysum(7,4)\n",
    "print(num1, num2)"
   ]
  },
  {
   "cell_type": "code",
   "execution_count": 132,
   "id": "a9f73b1f",
   "metadata": {},
   "outputs": [],
   "source": [
    "def nummx(a, b, c):\n",
    "    if a>b>c:\n",
    "        print(a)\n",
    "    elif a>c>b:\n",
    "        print(a)\n",
    "    elif b>a>c:\n",
    "        print(b)\n",
    "    elif b>c>a:\n",
    "        print(b)\n",
    "    elif c>a>b:\n",
    "        print(C)\n",
    "    else:\n",
    "        print(c)"
   ]
  },
  {
   "cell_type": "code",
   "execution_count": 141,
   "id": "01ac6e25",
   "metadata": {},
   "outputs": [],
   "source": [
    "def max_num(a, b, c):\n",
    "    max_val = a\n",
    "    if b > max_val:\n",
    "        max_val = b\n",
    "    if c > max_val:\n",
    "        max_val = c\n",
    "    return max_val"
   ]
  },
  {
   "cell_type": "code",
   "execution_count": null,
   "id": "db3aed0c",
   "metadata": {},
   "outputs": [
    {
     "name": "stdout",
     "output_type": "stream",
     "text": [
      "5\n"
     ]
    }
   ],
   "source": [
    "nummx(-1,5,5) #내가 한거 "
   ]
  },
  {
   "cell_type": "code",
   "execution_count": null,
   "id": "3f3c8ec6",
   "metadata": {},
   "outputs": [
    {
     "data": {
      "text/plain": [
       "5"
      ]
     },
     "execution_count": 144,
     "metadata": {},
     "output_type": "execute_result"
    }
   ],
   "source": [
    "max_num(4,5,5) #선생님 한거"
   ]
  },
  {
   "cell_type": "code",
   "execution_count": 145,
   "id": "e0b66298",
   "metadata": {},
   "outputs": [],
   "source": [
    "def num_min(arr):\n",
    "    answer = arr[0]\n",
    "    for i in arr:\n",
    "        if answer > i:\n",
    "            answer = i\n",
    "    return answer"
   ]
  },
  {
   "cell_type": "code",
   "execution_count": 147,
   "id": "91ae7862",
   "metadata": {},
   "outputs": [
    {
     "data": {
      "text/plain": [
       "32"
      ]
     },
     "execution_count": 147,
     "metadata": {},
     "output_type": "execute_result"
    }
   ],
   "source": [
    "num_min([34,322,45,32])"
   ]
  },
  {
   "cell_type": "code",
   "execution_count": 151,
   "id": "ef632350",
   "metadata": {},
   "outputs": [],
   "source": [
    "def add_many(*args):\n",
    "    print(args)"
   ]
  },
  {
   "cell_type": "code",
   "execution_count": 152,
   "id": "73e627bf",
   "metadata": {},
   "outputs": [
    {
     "name": "stdout",
     "output_type": "stream",
     "text": [
      "(1, 2)\n"
     ]
    }
   ],
   "source": [
    "add_many(1,2)"
   ]
  },
  {
   "cell_type": "code",
   "execution_count": 153,
   "id": "fdab7ed4",
   "metadata": {},
   "outputs": [
    {
     "name": "stdout",
     "output_type": "stream",
     "text": [
      "(1, 2, 3, 4, 5, 6, 7)\n"
     ]
    }
   ],
   "source": [
    "add_many(1,2,3,4,5,6,7)"
   ]
  },
  {
   "cell_type": "code",
   "execution_count": 168,
   "id": "849c5cc2",
   "metadata": {},
   "outputs": [],
   "source": [
    "def add_many(*args):\n",
    "    sum = 0\n",
    "    for i in args:\n",
    "        sum += i\n",
    "    return sum"
   ]
  },
  {
   "cell_type": "code",
   "execution_count": 169,
   "id": "f8e9cca5",
   "metadata": {},
   "outputs": [
    {
     "data": {
      "text/plain": [
       "15"
      ]
     },
     "execution_count": 169,
     "metadata": {},
     "output_type": "execute_result"
    }
   ],
   "source": [
    "add_many(1, 2, 3, 4, 5)"
   ]
  },
  {
   "cell_type": "code",
   "execution_count": 166,
   "id": "e80c5747",
   "metadata": {},
   "outputs": [],
   "source": [
    "def add_mul(choice, *args):\n",
    "    print(choice, args)\n",
    "    if choice == \"add\":\n",
    "        re = 0\n",
    "        for i in args:\n",
    "            re += i\n",
    "    else:\n",
    "        re = 1\n",
    "        for i in args:\n",
    "            re *= i\n",
    "    return re"
   ]
  },
  {
   "cell_type": "code",
   "execution_count": 167,
   "id": "3c079702",
   "metadata": {},
   "outputs": [
    {
     "name": "stdout",
     "output_type": "stream",
     "text": [
      "add (1, 2, 3, 4, 5)\n"
     ]
    },
    {
     "data": {
      "text/plain": [
       "15"
      ]
     },
     "execution_count": 167,
     "metadata": {},
     "output_type": "execute_result"
    }
   ],
   "source": [
    "add_mul(\"add\", 1, 2, 3, 4, 5)"
   ]
  },
  {
   "cell_type": "code",
   "execution_count": 170,
   "id": "49563a1b",
   "metadata": {},
   "outputs": [],
   "source": [
    "def add_add_mul(a,b):\n",
    "    return a+b, a*b"
   ]
  },
  {
   "cell_type": "code",
   "execution_count": null,
   "id": "0d18e4a6",
   "metadata": {},
   "outputs": [
    {
     "data": {
      "text/plain": [
       "(7, 12)"
      ]
     },
     "execution_count": 171,
     "metadata": {},
     "output_type": "execute_result"
    }
   ],
   "source": [
    "add_add_mul(3,4) # 하나만 return 받을 수 있음(튜플 데이터로 변환되서 주기 때문)"
   ]
  },
  {
   "cell_type": "code",
   "execution_count": 172,
   "id": "57092e8d",
   "metadata": {},
   "outputs": [],
   "source": [
    "result1, result2 = add_add_mul(3,4)"
   ]
  },
  {
   "cell_type": "code",
   "execution_count": 173,
   "id": "34c71f0c",
   "metadata": {},
   "outputs": [
    {
     "data": {
      "text/plain": [
       "12"
      ]
     },
     "execution_count": 173,
     "metadata": {},
     "output_type": "execute_result"
    }
   ],
   "source": [
    "result2"
   ]
  },
  {
   "cell_type": "code",
   "execution_count": 174,
   "id": "7377711b",
   "metadata": {},
   "outputs": [
    {
     "data": {
      "text/plain": [
       "7"
      ]
     },
     "execution_count": 174,
     "metadata": {},
     "output_type": "execute_result"
    }
   ],
   "source": [
    "result1"
   ]
  },
  {
   "cell_type": "code",
   "execution_count": 186,
   "id": "f57800f8",
   "metadata": {},
   "outputs": [],
   "source": [
    "def say_myself(name, age, man=True):\n",
    "    print(f\"{name},{age}\")\n",
    "    if man == True:\n",
    "        print(\"남자\")\n",
    "    else:\n",
    "        print(\"여자\")"
   ]
  },
  {
   "cell_type": "code",
   "execution_count": 191,
   "id": "64eb9903",
   "metadata": {},
   "outputs": [
    {
     "name": "stdout",
     "output_type": "stream",
     "text": [
      "박지민,23\n",
      "여자\n"
     ]
    }
   ],
   "source": [
    "say_myself(\"박지민\", 23, False)"
   ]
  }
 ],
 "metadata": {
  "kernelspec": {
   "display_name": "Python 3",
   "language": "python",
   "name": "python3"
  },
  "language_info": {
   "codemirror_mode": {
    "name": "ipython",
    "version": 3
   },
   "file_extension": ".py",
   "mimetype": "text/x-python",
   "name": "python",
   "nbconvert_exporter": "python",
   "pygments_lexer": "ipython3",
   "version": "3.11.8"
  }
 },
 "nbformat": 4,
 "nbformat_minor": 5
}
