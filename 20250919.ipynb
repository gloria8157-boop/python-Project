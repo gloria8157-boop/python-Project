{
 "cells": [
  {
   "cell_type": "markdown",
   "id": "5538dcf1",
   "metadata": {},
   "source": [
    "2025.09.19"
   ]
  },
  {
   "cell_type": "code",
   "execution_count": 1,
   "id": "1f037d7f",
   "metadata": {},
   "outputs": [
    {
     "name": "stdout",
     "output_type": "stream",
     "text": [
      "안녕 이제 파이썬을 시작하려고 해\n"
     ]
    }
   ],
   "source": [
    "print(\"안녕 이제 파이썬을 시작하려고 해\")"
   ]
  },
  {
   "cell_type": "code",
   "execution_count": 9,
   "id": "12d6bda5",
   "metadata": {},
   "outputs": [
    {
     "data": {
      "text/plain": [
       "8"
      ]
     },
     "execution_count": 9,
     "metadata": {},
     "output_type": "execute_result"
    }
   ],
   "source": [
    "2**3"
   ]
  },
  {
   "cell_type": "code",
   "execution_count": 11,
   "id": "0b4b89db",
   "metadata": {},
   "outputs": [],
   "source": [
    "str1 = \"Hello\" \n",
    "str2 = \"World\""
   ]
  },
  {
   "cell_type": "code",
   "execution_count": 12,
   "id": "b32b7118",
   "metadata": {},
   "outputs": [
    {
     "name": "stdout",
     "output_type": "stream",
     "text": [
      "HelloWorld\n"
     ]
    }
   ],
   "source": [
    "print(str1+str2)"
   ]
  },
  {
   "cell_type": "code",
   "execution_count": 13,
   "id": "d428bc25",
   "metadata": {},
   "outputs": [
    {
     "name": "stdout",
     "output_type": "stream",
     "text": [
      "Hello World\n"
     ]
    }
   ],
   "source": [
    "print(str1+\" \"+str2)"
   ]
  },
  {
   "cell_type": "code",
   "execution_count": 14,
   "id": "9f60f8f5",
   "metadata": {},
   "outputs": [
    {
     "name": "stdout",
     "output_type": "stream",
     "text": [
      "Hello World\n"
     ]
    }
   ],
   "source": [
    "print(str1, str2)"
   ]
  },
  {
   "cell_type": "code",
   "execution_count": 15,
   "id": "cc041024",
   "metadata": {},
   "outputs": [
    {
     "name": "stdout",
     "output_type": "stream",
     "text": [
      "Hello World Hello World\n"
     ]
    }
   ],
   "source": [
    "print(str1,str2,str1,str2)"
   ]
  },
  {
   "cell_type": "code",
   "execution_count": 16,
   "id": "c383efa8",
   "metadata": {},
   "outputs": [],
   "source": [
    "num=1\n",
    "num=2"
   ]
  },
  {
   "cell_type": "code",
   "execution_count": 19,
   "id": "d3c9ce28",
   "metadata": {},
   "outputs": [
    {
     "name": "stdout",
     "output_type": "stream",
     "text": [
      "이름은 이예진 입니다\n"
     ]
    }
   ],
   "source": [
    "name = input(\"이름을 입력하세요:\")\n",
    "print(\"이름은\", name, \"입니다\")"
   ]
  },
  {
   "cell_type": "code",
   "execution_count": null,
   "id": "3f22562d",
   "metadata": {},
   "outputs": [
    {
     "name": "stdout",
     "output_type": "stream",
     "text": [
      "21\n"
     ]
    },
    {
     "ename": "TypeError",
     "evalue": "unsupported operand type(s) for -: 'str' and 'str'",
     "output_type": "error",
     "traceback": [
      "\u001b[31m---------------------------------------------------------------------------\u001b[39m",
      "\u001b[31mTypeError\u001b[39m                                 Traceback (most recent call last)",
      "\u001b[36mCell\u001b[39m\u001b[36m \u001b[39m\u001b[32mIn[22]\u001b[39m\u001b[32m, line 5\u001b[39m\n\u001b[32m      2\u001b[39m num2=\u001b[38;5;28minput\u001b[39m()\n\u001b[32m      4\u001b[39m \u001b[38;5;28mprint\u001b[39m(num1+num2)\n\u001b[32m----> \u001b[39m\u001b[32m5\u001b[39m \u001b[38;5;28mprint\u001b[39m(\u001b[43mnum1\u001b[49m\u001b[43m-\u001b[49m\u001b[43mnum2\u001b[49m)\n\u001b[32m      6\u001b[39m \u001b[38;5;28mprint\u001b[39m(num1/num2)\n\u001b[32m      7\u001b[39m \u001b[38;5;28mprint\u001b[39m(num1*num2)\n",
      "\u001b[31mTypeError\u001b[39m: unsupported operand type(s) for -: 'str' and 'str'"
     ]
    }
   ],
   "source": [
    "num1=input(\"첫 번째 숫자를 입력하세요 : \")\n",
    "num2=input(\"두 번째 숫자를 입력하세요 : \")\n",
    "\n",
    "print(num1+num2)\n",
    "print(num1-num2)\n",
    "print(num1/num2)\n",
    "print(num1*num2)"
   ]
  },
  {
   "cell_type": "code",
   "execution_count": 25,
   "id": "efbc939b",
   "metadata": {},
   "outputs": [
    {
     "name": "stdout",
     "output_type": "stream",
     "text": [
      "6\n",
      "2\n",
      "2.0\n",
      "8\n"
     ]
    }
   ],
   "source": [
    "num1=int(input(\"첫 번째 숫자를 입력하세요 : \")) #4\n",
    "num2=int(input(\"두 번째 숫자를 입력하세요 : \")) #2\n",
    "\n",
    "print(num1+num2)\n",
    "print(num1-num2)\n",
    "print(num1/num2)\n",
    "print(num1*num2)"
   ]
  },
  {
   "cell_type": "code",
   "execution_count": 26,
   "id": "b734736d",
   "metadata": {},
   "outputs": [
    {
     "ename": "SyntaxError",
     "evalue": "unterminated string literal (detected at line 1) (791954284.py, line 1)",
     "output_type": "error",
     "traceback": [
      "  \u001b[36mCell\u001b[39m\u001b[36m \u001b[39m\u001b[32mIn[26]\u001b[39m\u001b[32m, line 1\u001b[39m\n\u001b[31m    \u001b[39m\u001b[31mprint(\"\"안녕\"이라고 말했다)\u001b[39m\n              ^\n\u001b[31mSyntaxError\u001b[39m\u001b[31m:\u001b[39m unterminated string literal (detected at line 1)\n"
     ]
    }
   ],
   "source": [
    "print(\"\"안녕\"이라고 말했다)"
   ]
  },
  {
   "cell_type": "code",
   "execution_count": 27,
   "id": "61ae734c",
   "metadata": {},
   "outputs": [
    {
     "name": "stdout",
     "output_type": "stream",
     "text": [
      "\"안녕\"이라고 말했다.\n"
     ]
    }
   ],
   "source": [
    "print('\"안녕\"이라고 말했다.')"
   ]
  },
  {
   "cell_type": "code",
   "execution_count": 31,
   "id": "29e98a00",
   "metadata": {},
   "outputs": [],
   "source": [
    "sentense = \"\"\" \n",
    "안녕하세요\n",
    "만나서 \n",
    "반가워요\n",
    "\"\"\""
   ]
  },
  {
   "cell_type": "code",
   "execution_count": 32,
   "id": "ff46ae3c",
   "metadata": {},
   "outputs": [
    {
     "name": "stdout",
     "output_type": "stream",
     "text": [
      " \n",
      "안녕하세요\n",
      "만나서 \n",
      "반가워요\n",
      "\n"
     ]
    }
   ],
   "source": [
    "print(sentense)"
   ]
  },
  {
   "cell_type": "code",
   "execution_count": 30,
   "id": "9de2b8f7",
   "metadata": {},
   "outputs": [
    {
     "name": "stdout",
     "output_type": "stream",
     "text": [
      "'낮말'은 새가 듣고 '밤말'은 쥐가 듣는다.\n"
     ]
    }
   ],
   "source": [
    "print(\"'낮말'은 새가 듣고 '밤말'은 쥐가 듣는다.\")"
   ]
  },
  {
   "cell_type": "code",
   "execution_count": null,
   "id": "9a58eb2d",
   "metadata": {},
   "outputs": [
    {
     "name": "stdout",
     "output_type": "stream",
     "text": [
      "hellohellohellohello\n"
     ]
    }
   ],
   "source": [
    "print(\"hello\", end=\"\") #줄바꿈 없앰\n",
    "print(\"hello\", end=\"\")\n",
    "print(\"hello\", end=\"\")\n",
    "print(\"hello\")"
   ]
  },
  {
   "cell_type": "code",
   "execution_count": 41,
   "id": "3a5860a8",
   "metadata": {},
   "outputs": [
    {
     "name": "stdout",
     "output_type": "stream",
     "text": [
      "hello,hello,hello,hello\n"
     ]
    }
   ],
   "source": [
    "print(\"hello\", end=\",\", sep=\",\") #줄바꿈 없앰 #쉼표로 구분\n",
    "print(\"hello\", end=\",\", sep=\",\")\n",
    "print(\"hello\", end=\",\", sep=\",\")\n",
    "print(\"hello\")"
   ]
  },
  {
   "cell_type": "code",
   "execution_count": 40,
   "id": "92b0096b",
   "metadata": {},
   "outputs": [
    {
     "name": "stdout",
     "output_type": "stream",
     "text": [
      "더하기의 결과 : {num1}+{num2} = {num1+num2}\n",
      "더하기의 결과 : 7+2 = 9\n"
     ]
    }
   ],
   "source": [
    "num1 = 7\n",
    "num2 = 2\n",
    "print(\"더하기의 결과 : {num1}+{num2} = {num1+num2}\")\n",
    "print(f\"더하기의 결과 : {num1}+{num2} = {num1+num2}\")"
   ]
  },
  {
   "cell_type": "code",
   "execution_count": 62,
   "id": "69f434ec",
   "metadata": {},
   "outputs": [
    {
     "name": "stdout",
     "output_type": "stream",
     "text": [
      "김밥 주문 갯수 :  2\n",
      "떡볶이 주문 갯수 :  1\n",
      "라면 주문 갯수 :  2\n",
      "지불하실 금액은 : 14500원\n"
     ]
    }
   ],
   "source": [
    "a= int((input(\"김밥 주문 갯수\")))\n",
    "b= int((input(\"떡볶이 주문 갯수\")))\n",
    "c= int((input(\"라면 주문 갯수\")))\n",
    "print(\"김밥 주문 갯수 : \",a)\n",
    "print(\"떡볶이 주문 갯수 : \",b)\n",
    "print(\"라면 주문 갯수 : \",c)\n",
    "print(f\"지불하실 금액은 : {a*3000+b*3500+c*2500}원\")"
   ]
  },
  {
   "cell_type": "code",
   "execution_count": 68,
   "id": "d382b8ee",
   "metadata": {},
   "outputs": [
    {
     "name": "stdout",
     "output_type": "stream",
     "text": [
      "스테이크를 먹는다.\n",
      "택시를 탄다\n",
      "조건문 종료\n"
     ]
    }
   ],
   "source": [
    "money = True\n",
    "if money:\n",
    "    print(\"스테이크를 먹는다.\")\n",
    "    print(\"택시를 탄다\")\n",
    "print(\"조건문 종료\")"
   ]
  },
  {
   "cell_type": "code",
   "execution_count": 69,
   "id": "0269bc04",
   "metadata": {},
   "outputs": [
    {
     "name": "stdout",
     "output_type": "stream",
     "text": [
      "조건문 종료\n"
     ]
    }
   ],
   "source": [
    "money = False\n",
    "if money:\n",
    "    print(\"스테이크를 먹는다.\")\n",
    "    print(\"택시를 탄다\")\n",
    "print(\"조건문 종료\")"
   ]
  },
  {
   "cell_type": "code",
   "execution_count": 72,
   "id": "2631731f",
   "metadata": {},
   "outputs": [
    {
     "name": "stdout",
     "output_type": "stream",
     "text": [
      "홀수\n"
     ]
    }
   ],
   "source": [
    "# 짝수 홀수 구분\n",
    "# num % 2 == 0\n",
    "num = int(input())\n",
    "if num % 2 == 0:\n",
    "    print(\"짝수\")\n",
    "else:\n",
    "    print(\"홀수\")"
   ]
  },
  {
   "cell_type": "code",
   "execution_count": 80,
   "id": "bf610d7b",
   "metadata": {},
   "outputs": [
    {
     "name": "stdout",
     "output_type": "stream",
     "text": [
      "B\n"
     ]
    }
   ],
   "source": [
    "eng = int(input(\"영어 점수를 입력해주세요.\"))\n",
    "\n",
    "if eng>=90:\n",
    "    print(\"A\")\n",
    "elif eng>=80:\n",
    "    print(\"B\")\n",
    "elif eng>=70:\n",
    "    print(\"C\")\n",
    "elif eng>=60:\n",
    "    print(\"D\")\n",
    "else:\n",
    "    print(\"F\")\n"
   ]
  },
  {
   "cell_type": "code",
   "execution_count": null,
   "id": "eb8fd1d8",
   "metadata": {},
   "outputs": [
    {
     "name": "stdout",
     "output_type": "stream",
     "text": [
      "hello\n",
      "hello\n",
      "hello\n",
      "hello\n",
      "hello\n",
      "hello\n",
      "hello\n",
      "hello\n",
      "hello\n",
      "hello\n"
     ]
    }
   ],
   "source": [
    "# 반복문\n",
    "for i in range(10):\n",
    "    print(\"hello\")"
   ]
  },
  {
   "cell_type": "code",
   "execution_count": 88,
   "id": "1b3eb146",
   "metadata": {},
   "outputs": [
    {
     "name": "stdout",
     "output_type": "stream",
     "text": [
      "0번째 hello\n",
      "1번째 hello\n",
      "2번째 hello\n",
      "3번째 hello\n",
      "4번째 hello\n",
      "5번째 hello\n",
      "6번째 hello\n",
      "7번째 hello\n",
      "8번째 hello\n",
      "9번째 hello\n"
     ]
    }
   ],
   "source": [
    "for i in range(10):\n",
    "    print(f\"{i}번째 hello\")"
   ]
  },
  {
   "cell_type": "code",
   "execution_count": null,
   "id": "936a5c3e",
   "metadata": {},
   "outputs": [
    {
     "name": "stdout",
     "output_type": "stream",
     "text": [
      "1번째 hello\n",
      "2번째 hello\n",
      "3번째 hello\n",
      "4번째 hello\n",
      "5번째 hello\n",
      "6번째 hello\n",
      "7번째 hello\n",
      "8번째 hello\n",
      "9번째 hello\n"
     ]
    }
   ],
   "source": [
    "for i in range(1,10): # range는 1<= i <10 와 같이 받아들임\n",
    "    print(f\"{i}번째 hello\")"
   ]
  },
  {
   "cell_type": "code",
   "execution_count": 90,
   "id": "748a7e61",
   "metadata": {},
   "outputs": [
    {
     "name": "stdout",
     "output_type": "stream",
     "text": [
      "1번째 hello\n",
      "3번째 hello\n",
      "5번째 hello\n",
      "7번째 hello\n",
      "9번째 hello\n"
     ]
    }
   ],
   "source": [
    "for i in range(1, 11, 2) : # start, end, step(건너띄기)\n",
    "    print(f\"{i}번째 hello\")"
   ]
  },
  {
   "cell_type": "code",
   "execution_count": 91,
   "id": "7f79fcd8",
   "metadata": {},
   "outputs": [
    {
     "name": "stdout",
     "output_type": "stream",
     "text": [
      "10번째 hello\n",
      "9번째 hello\n",
      "8번째 hello\n",
      "7번째 hello\n",
      "6번째 hello\n",
      "5번째 hello\n",
      "4번째 hello\n",
      "3번째 hello\n",
      "2번째 hello\n",
      "1번째 hello\n"
     ]
    }
   ],
   "source": [
    "for i in range(10,0,-1):\n",
    "    print(f\"{i}번째 hello\")"
   ]
  },
  {
   "cell_type": "code",
   "execution_count": 112,
   "id": "1b9a3290",
   "metadata": {},
   "outputs": [
    {
     "name": "stdout",
     "output_type": "stream",
     "text": [
      "55\n"
     ]
    }
   ],
   "source": [
    "# for 반복문과 range()함수를 사용해서 1부터 10까지의 합을 출력해주세요!\n",
    "a = 0\n",
    "for i in range(1,11):\n",
    "    a = a + i\n",
    "print(a)"
   ]
  },
  {
   "cell_type": "code",
   "execution_count": 113,
   "id": "b098751f",
   "metadata": {},
   "outputs": [
    {
     "name": "stdout",
     "output_type": "stream",
     "text": [
      "3628800\n"
     ]
    }
   ],
   "source": [
    "# for 반복문과 range()함수를 사용해서 1부터 10까지의 곱을 출력해주세요!\n",
    "a=1\n",
    "for i in range(1,11) :\n",
    "    a = a * i\n",
    "print(a)"
   ]
  },
  {
   "cell_type": "code",
   "execution_count": 114,
   "id": "905f7891",
   "metadata": {},
   "outputs": [
    {
     "name": "stdout",
     "output_type": "stream",
     "text": [
      "Hello\n",
      "Hello\n",
      "Hello\n",
      "Hello\n",
      "Hello\n"
     ]
    }
   ],
   "source": [
    "# while문\n",
    "\n",
    "i = 1\n",
    "while i <=5:\n",
    "    print(\"Hello\")\n",
    "    i=i+1"
   ]
  },
  {
   "cell_type": "code",
   "execution_count": 3,
   "id": "76c41961",
   "metadata": {},
   "outputs": [
    {
     "name": "stdout",
     "output_type": "stream",
     "text": [
      "6\n"
     ]
    }
   ],
   "source": [
    "#다시 해보기\n",
    "num = int(input())\n",
    "sum = 0\n",
    "i = 1\n",
    "while i<=num:\n",
    "    sum= sum+i # sum +=i 옆의 식과 동일함\n",
    "    i=i+1\n",
    "print(sum)"
   ]
  },
  {
   "cell_type": "code",
   "execution_count": 7,
   "id": "d8510a7d",
   "metadata": {},
   "outputs": [
    {
     "name": "stdout",
     "output_type": "stream",
     "text": [
      "5.0\n",
      "9.0\n"
     ]
    }
   ],
   "source": [
    "sum = 10\n",
    "sum /= 2\n",
    "print(sum)\n",
    "sum *=2\n",
    "sum -=1\n",
    "print(sum)"
   ]
  },
  {
   "cell_type": "code",
   "execution_count": 9,
   "id": "420c4324",
   "metadata": {},
   "outputs": [
    {
     "name": "stdout",
     "output_type": "stream",
     "text": [
      "3X1=3\n",
      "3X2=6\n",
      "3X3=9\n",
      "3X4=12\n",
      "3X5=15\n",
      "3X6=18\n",
      "3X7=21\n",
      "3X8=24\n",
      "3X9=27\n"
     ]
    }
   ],
   "source": [
    "num = int(input())\n",
    "i = 1\n",
    "a = 1\n",
    "\n",
    "while i<=9:\n",
    "    a =  num* i\n",
    "    print(f\"{num}X{i}={a}\")\n",
    "    i = i +1"
   ]
  },
  {
   "cell_type": "code",
   "execution_count": 11,
   "id": "e71997d2",
   "metadata": {},
   "outputs": [
    {
     "name": "stdout",
     "output_type": "stream",
     "text": [
      "55\n"
     ]
    }
   ],
   "source": [
    "# 1부터 10까지 더하되, 합이 20 이상이 되는 때의 정수값을 \n",
    "a = 0\n",
    "for i in range(1,11):\n",
    "    a = a + i\n",
    "    if sum >=20:\n",
    "        print(f\"정수: {i}, 합계: {a}\")\n",
    "        break\n",
    "print(a)"
   ]
  },
  {
   "cell_type": "code",
   "execution_count": 13,
   "id": "f4bbfeb6",
   "metadata": {},
   "outputs": [
    {
     "name": "stdout",
     "output_type": "stream",
     "text": [
      "1 2 4 5 7 8 "
     ]
    }
   ],
   "source": [
    "for i in range(10):\n",
    "    if i % 3 == 0:\n",
    "        continue\n",
    "    print(i, end=\" \")"
   ]
  },
  {
   "cell_type": "code",
   "execution_count": 4,
   "id": "2b9e3abc",
   "metadata": {},
   "outputs": [
    {
     "name": "stdout",
     "output_type": "stream",
     "text": [
      "31\n",
      "너무 작아요\n",
      "정답입니다\n",
      "게임종료\n"
     ]
    }
   ],
   "source": [
    "import random\n",
    "answer = random.randint(1,100)\n",
    "print(answer)\n",
    "while True :\n",
    "     k = int(input())\n",
    "     if k == answer :\n",
    "          print(\"정답입니다\")\n",
    "          break\n",
    "     elif k > answer :\n",
    "          print(\"너무 커요\")\n",
    "     else :\n",
    "         print(\"너무 작아요\")\n",
    "print(\"게임종료\")\n"
   ]
  },
  {
   "cell_type": "code",
   "execution_count": 13,
   "id": "af86857f",
   "metadata": {},
   "outputs": [
    {
     "name": "stdout",
     "output_type": "stream",
     "text": [
      "1 2 4 7 8 11 13 14 16 17 19 "
     ]
    }
   ],
   "source": [
    "#20보다 작은 정수 중에서 3의 배수와 5의 배수를 제외하고 출력\n",
    "number = 0\n",
    "while True:\n",
    "    number += 1\n",
    "    if number >= 20:\n",
    "        break\n",
    "    if number % 3 == 0 or number % 5 == 0:\n",
    "        continue\n",
    "    print(number, end=\" \")"
   ]
  },
  {
   "cell_type": "code",
   "execution_count": 16,
   "id": "ffd9a1c1",
   "metadata": {},
   "outputs": [
    {
     "name": "stdout",
     "output_type": "stream",
     "text": [
      "2*1=2\n",
      "2*2=4\n",
      "2*3=6\n",
      "2*4=8\n",
      "2*5=10\n",
      "2*6=12\n",
      "2*7=14\n",
      "2*8=16\n",
      "2*9=18\n",
      "3*1=3\n",
      "3*2=6\n",
      "3*3=9\n",
      "3*4=12\n",
      "3*5=15\n",
      "3*6=18\n",
      "3*7=21\n",
      "3*8=24\n",
      "3*9=27\n",
      "4*1=4\n",
      "4*2=8\n",
      "4*3=12\n",
      "4*4=16\n",
      "4*5=20\n",
      "4*6=24\n",
      "4*7=28\n",
      "4*8=32\n",
      "4*9=36\n",
      "5*1=5\n",
      "5*2=10\n",
      "5*3=15\n",
      "5*4=20\n",
      "5*5=25\n",
      "5*6=30\n",
      "5*7=35\n",
      "5*8=40\n",
      "5*9=45\n",
      "6*1=6\n",
      "6*2=12\n",
      "6*3=18\n",
      "6*4=24\n",
      "6*5=30\n",
      "6*6=36\n",
      "6*7=42\n",
      "6*8=48\n",
      "6*9=54\n",
      "7*1=7\n",
      "7*2=14\n",
      "7*3=21\n",
      "7*4=28\n",
      "7*5=35\n",
      "7*6=42\n",
      "7*7=49\n",
      "7*8=56\n",
      "7*9=63\n",
      "8*1=8\n",
      "8*2=16\n",
      "8*3=24\n",
      "8*4=32\n",
      "8*5=40\n",
      "8*6=48\n",
      "8*7=56\n",
      "8*8=64\n",
      "8*9=72\n",
      "9*1=9\n",
      "9*2=18\n",
      "9*3=27\n",
      "9*4=36\n",
      "9*5=45\n",
      "9*6=54\n",
      "9*7=63\n",
      "9*8=72\n",
      "9*9=81\n"
     ]
    }
   ],
   "source": [
    "#중첩반복문\n",
    "\n",
    "for dan in range(2,10) :\n",
    "   for i in range(1,10):\n",
    "     print(f\"{dan}*{i}={dan*i}\")"
   ]
  },
  {
   "cell_type": "code",
   "execution_count": 28,
   "id": "519d7cc4",
   "metadata": {},
   "outputs": [
    {
     "name": "stdout",
     "output_type": "stream",
     "text": [
      "2 4 6 8 10 12 14 16 18 \n",
      "3 6 9 12 15 18 21 24 27 \n",
      "4 8 12 16 20 24 28 32 36 \n",
      "5 10 15 20 25 30 35 40 45 \n",
      "6 12 18 24 30 36 42 48 54 \n",
      "7 14 21 28 35 42 49 56 63 \n",
      "8 16 24 32 40 48 56 64 72 \n",
      "9 18 27 36 45 54 63 72 81 \n"
     ]
    }
   ],
   "source": [
    "for dan in range(2,10) :\n",
    "   for i in range(1,10):\n",
    "     print(f\"{dan*i}\", end=\" \")\n",
    "   print()"
   ]
  },
  {
   "cell_type": "code",
   "execution_count": 1,
   "id": "4214efb9",
   "metadata": {},
   "outputs": [
    {
     "name": "stdout",
     "output_type": "stream",
     "text": [
      "*\n",
      "**\n",
      "***\n",
      "****\n",
      "*****\n",
      "******\n",
      "*******\n",
      "********\n",
      "*********\n",
      "**********\n"
     ]
    }
   ],
   "source": [
    "i = 0\n",
    "for i in range(0, 10, 1):\n",
    "    i += 1\n",
    "    print(\"*\" * i)"
   ]
  },
  {
   "cell_type": "code",
   "execution_count": 5,
   "id": "f0720583",
   "metadata": {},
   "outputs": [
    {
     "name": "stdout",
     "output_type": "stream",
     "text": [
      "**********\n",
      "*********\n",
      "********\n",
      "*******\n",
      "******\n",
      "*****\n",
      "****\n",
      "***\n",
      "**\n",
      "*\n"
     ]
    }
   ],
   "source": [
    "i = 0\n",
    "for i in range(9, -1,-1):\n",
    "    i += 1\n",
    "    print(\"*\" * i)"
   ]
  }
 ],
 "metadata": {
  "kernelspec": {
   "display_name": "Python 3",
   "language": "python",
   "name": "python3"
  },
  "language_info": {
   "codemirror_mode": {
    "name": "ipython",
    "version": 3
   },
   "file_extension": ".py",
   "mimetype": "text/x-python",
   "name": "python",
   "nbconvert_exporter": "python",
   "pygments_lexer": "ipython3",
   "version": "3.11.8"
  }
 },
 "nbformat": 4,
 "nbformat_minor": 5
}
